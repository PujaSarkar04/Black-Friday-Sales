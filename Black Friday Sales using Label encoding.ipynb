{
 "cells": [
  {
   "cell_type": "markdown",
   "metadata": {
    "slideshow": {
     "slide_type": "slide"
    }
   },
   "source": [
    "# <h><center>**Black Friday Sales**</center></h>\n",
    "<h><center>**By Anju Rajbangshi and Puja Sarkar from Hook, Line and Thinker**</center></h>\n"
   ]
  },
  {
   "cell_type": "markdown",
   "metadata": {
    "slideshow": {
     "slide_type": "slide"
    }
   },
   "source": [
    "![alt text](blackfriday-predictions-2018.png \"Title\")"
   ]
  },
  {
   "cell_type": "markdown",
   "metadata": {
    "slideshow": {
     "slide_type": "slide"
    }
   },
   "source": [
    "<i>EBlack Friday is an informal name for the Friday following Thanksgiving Day in the United States, which is celebrated on the fourth Thursday of November. \n",
    "    \n",
    "   A retail company “ABC Private Limited” wants to understand the customer purchase behaviour (specifically, purchase amount) against various products of different categories. They have shared purchase summary of various customers for a selected high volume products from last month.\n",
    "They want to build a model to predict the purchase amount of customer against various products which will help them to create personalized offer for customers against different products.\n",
    "\n",
    "The train data had ~ 5.5 lakh observations and the test data had ~ 2.3 lakh observations. </i>"
   ]
  },
  {
   "cell_type": "markdown",
   "metadata": {
    "slideshow": {
     "slide_type": "slide"
    }
   },
   "source": [
    "#### Problem\n",
    "<i>The challenge was to predict the purchase amount of various products by users across categories given historic data of purchase amounts.\n",
    "\n",
    "We can categorize this problem as a Regression task. Our algorithm is expected to predict the purchase amount a client is expected to spend on this day.</i>"
   ]
  },
  {
   "cell_type": "markdown",
   "metadata": {
    "slideshow": {
     "slide_type": "slide"
    }
   },
   "source": [
    "# Approach\n",
    "\n",
    "<ol>\n",
    "<li>Exploratory data analysis (EDA);</li>\n",
    "<li>Data Pre-processing;</li>\n",
    "<li>Feature engineering;</li>\n",
    "    <li>Feature Transformation;</li>\n",
    "    <li>Modeling;</li>\n",
    "</ol>\n",
    "\n",
    "\n",
    "\n"
   ]
  },
  {
   "cell_type": "markdown",
   "metadata": {
    "slideshow": {
     "slide_type": "slide"
    }
   },
   "source": [
    "<img src=approach.png style=\"width=200;height=400\">"
   ]
  },
  {
   "cell_type": "markdown",
   "metadata": {
    "slideshow": {
     "slide_type": "skip"
    }
   },
   "source": [
    "from IPython.core.interactiveshell import InteractiveShell \n",
    "InteractiveShell.ast_node_interactivity = \"all\""
   ]
  },
  {
   "cell_type": "code",
   "execution_count": 4,
   "metadata": {
    "slideshow": {
     "slide_type": "skip"
    }
   },
   "outputs": [],
   "source": [
    "import numpy as np # linear algebra\n",
    "import pandas as pd # data processing\n",
    "import os\n",
    "\n",
    "import scipy as sp\n",
    "import pandas_profiling\n",
    "\n",
    "import matplotlib.pyplot as plt\n",
    "import seaborn as sns\n",
    "\n",
    "import pandas_profiling as pf\n",
    "from pandas_profiling import ProfileReport\n",
    "\n",
    "from sklearn.ensemble import RandomForestRegressor\n",
    "from sklearn.model_selection import RandomizedSearchCV\n",
    "from sklearn import preprocessing\n",
    "from sklearn.model_selection import GridSearchCV\n",
    "from sklearn.model_selection import cross_val_score\n",
    "from sklearn.model_selection import train_test_split\n",
    "from sklearn.linear_model import LinearRegression\n",
    "\n",
    "from sklearn.metrics import make_scorer, accuracy_score #accuracy\n",
    "from sklearn.model_selection import train_test_split\n",
    "from sklearn.linear_model import LogisticRegression\n",
    "from sklearn.model_selection import GridSearchCV #hyper parameter optimization\n",
    "from sklearn.metrics import confusion_matrix #accuracy\n",
    "from sklearn.metrics import accuracy_score\n",
    "from sklearn.metrics import r2_score\n",
    "from sklearn import metrics"
   ]
  },
  {
   "cell_type": "code",
   "execution_count": 5,
   "metadata": {
    "slideshow": {
     "slide_type": "skip"
    }
   },
   "outputs": [],
   "source": [
    "data = pd.read_csv('C:/Users/Hp/Desktop/Imarticus/Dataset/black-friday/train.csv')"
   ]
  },
  {
   "cell_type": "code",
   "execution_count": 4,
   "metadata": {
    "slideshow": {
     "slide_type": "skip"
    }
   },
   "outputs": [],
   "source": [
    "#profile = ProfileReport(data, title='Pandas Profiling Report', html={'style':{'full_width':True}})"
   ]
  },
  {
   "cell_type": "code",
   "execution_count": 5,
   "metadata": {
    "slideshow": {
     "slide_type": "skip"
    }
   },
   "outputs": [],
   "source": [
    "profile = ProfileReport(data, minimal=True)\n",
    "#profile.to_file(output_file=\"output.html\")"
   ]
  },
  {
   "cell_type": "code",
   "execution_count": 6,
   "metadata": {
    "slideshow": {
     "slide_type": "skip"
    }
   },
   "outputs": [
    {
     "data": {
      "application/vnd.jupyter.widget-view+json": {
       "model_id": "6b0b5008e1e7408e9adbec24d67b0d62",
       "version_major": 2,
       "version_minor": 0
      },
      "text/plain": [
       "Tab(children=(HTML(value='<div id=\"overview-content\" class=\"row variable spacing\">\\n    <div class=\"row\">\\n   …"
      ]
     },
     "metadata": {},
     "output_type": "display_data"
    },
    {
     "data": {
      "text/html": [
       "Report generated with <a href=\"https://github.com/pandas-profiling/pandas-profiling\">pandas-profiling</a>."
      ],
      "text/plain": [
       "<IPython.core.display.HTML object>"
      ]
     },
     "metadata": {},
     "output_type": "display_data"
    },
    {
     "data": {
      "text/plain": []
     },
     "execution_count": 6,
     "metadata": {},
     "output_type": "execute_result"
    }
   ],
   "source": [
    "profile"
   ]
  },
  {
   "cell_type": "code",
   "execution_count": 45,
   "metadata": {
    "slideshow": {
     "slide_type": "slide"
    }
   },
   "outputs": [
    {
     "data": {
      "text/html": [
       "<a href='output.html' target='_blank'>output.html</a><br>"
      ],
      "text/plain": [
       "C:\\Users\\Hp\\output.html"
      ]
     },
     "execution_count": 45,
     "metadata": {},
     "output_type": "execute_result"
    }
   ],
   "source": [
    "from IPython.display import FileLink, FileLinks\n",
    "FileLink('output.html')"
   ]
  },
  {
   "cell_type": "code",
   "execution_count": 7,
   "metadata": {
    "slideshow": {
     "slide_type": "skip"
    }
   },
   "outputs": [
    {
     "data": {
      "text/html": [
       "<div>\n",
       "<style scoped>\n",
       "    .dataframe tbody tr th:only-of-type {\n",
       "        vertical-align: middle;\n",
       "    }\n",
       "\n",
       "    .dataframe tbody tr th {\n",
       "        vertical-align: top;\n",
       "    }\n",
       "\n",
       "    .dataframe thead th {\n",
       "        text-align: right;\n",
       "    }\n",
       "</style>\n",
       "<table border=\"1\" class=\"dataframe\">\n",
       "  <thead>\n",
       "    <tr style=\"text-align: right;\">\n",
       "      <th></th>\n",
       "      <th>User_ID</th>\n",
       "      <th>Product_ID</th>\n",
       "      <th>Gender</th>\n",
       "      <th>Age</th>\n",
       "      <th>Occupation</th>\n",
       "      <th>City_Category</th>\n",
       "      <th>Stay_In_Current_City_Years</th>\n",
       "      <th>Marital_Status</th>\n",
       "      <th>Product_Category_1</th>\n",
       "      <th>Product_Category_2</th>\n",
       "      <th>Product_Category_3</th>\n",
       "      <th>Purchase</th>\n",
       "    </tr>\n",
       "  </thead>\n",
       "  <tbody>\n",
       "    <tr>\n",
       "      <td>0</td>\n",
       "      <td>1000001</td>\n",
       "      <td>P00069042</td>\n",
       "      <td>F</td>\n",
       "      <td>0-17</td>\n",
       "      <td>10</td>\n",
       "      <td>A</td>\n",
       "      <td>2</td>\n",
       "      <td>0</td>\n",
       "      <td>3</td>\n",
       "      <td>NaN</td>\n",
       "      <td>NaN</td>\n",
       "      <td>8370</td>\n",
       "    </tr>\n",
       "    <tr>\n",
       "      <td>1</td>\n",
       "      <td>1000001</td>\n",
       "      <td>P00248942</td>\n",
       "      <td>F</td>\n",
       "      <td>0-17</td>\n",
       "      <td>10</td>\n",
       "      <td>A</td>\n",
       "      <td>2</td>\n",
       "      <td>0</td>\n",
       "      <td>1</td>\n",
       "      <td>6.0</td>\n",
       "      <td>14.0</td>\n",
       "      <td>15200</td>\n",
       "    </tr>\n",
       "    <tr>\n",
       "      <td>2</td>\n",
       "      <td>1000001</td>\n",
       "      <td>P00087842</td>\n",
       "      <td>F</td>\n",
       "      <td>0-17</td>\n",
       "      <td>10</td>\n",
       "      <td>A</td>\n",
       "      <td>2</td>\n",
       "      <td>0</td>\n",
       "      <td>12</td>\n",
       "      <td>NaN</td>\n",
       "      <td>NaN</td>\n",
       "      <td>1422</td>\n",
       "    </tr>\n",
       "    <tr>\n",
       "      <td>3</td>\n",
       "      <td>1000001</td>\n",
       "      <td>P00085442</td>\n",
       "      <td>F</td>\n",
       "      <td>0-17</td>\n",
       "      <td>10</td>\n",
       "      <td>A</td>\n",
       "      <td>2</td>\n",
       "      <td>0</td>\n",
       "      <td>12</td>\n",
       "      <td>14.0</td>\n",
       "      <td>NaN</td>\n",
       "      <td>1057</td>\n",
       "    </tr>\n",
       "    <tr>\n",
       "      <td>4</td>\n",
       "      <td>1000002</td>\n",
       "      <td>P00285442</td>\n",
       "      <td>M</td>\n",
       "      <td>55+</td>\n",
       "      <td>16</td>\n",
       "      <td>C</td>\n",
       "      <td>4+</td>\n",
       "      <td>0</td>\n",
       "      <td>8</td>\n",
       "      <td>NaN</td>\n",
       "      <td>NaN</td>\n",
       "      <td>7969</td>\n",
       "    </tr>\n",
       "  </tbody>\n",
       "</table>\n",
       "</div>"
      ],
      "text/plain": [
       "   User_ID Product_ID Gender   Age  Occupation City_Category  \\\n",
       "0  1000001  P00069042      F  0-17          10             A   \n",
       "1  1000001  P00248942      F  0-17          10             A   \n",
       "2  1000001  P00087842      F  0-17          10             A   \n",
       "3  1000001  P00085442      F  0-17          10             A   \n",
       "4  1000002  P00285442      M   55+          16             C   \n",
       "\n",
       "  Stay_In_Current_City_Years  Marital_Status  Product_Category_1  \\\n",
       "0                          2               0                   3   \n",
       "1                          2               0                   1   \n",
       "2                          2               0                  12   \n",
       "3                          2               0                  12   \n",
       "4                         4+               0                   8   \n",
       "\n",
       "   Product_Category_2  Product_Category_3  Purchase  \n",
       "0                 NaN                 NaN      8370  \n",
       "1                 6.0                14.0     15200  \n",
       "2                 NaN                 NaN      1422  \n",
       "3                14.0                 NaN      1057  \n",
       "4                 NaN                 NaN      7969  "
      ]
     },
     "execution_count": 7,
     "metadata": {},
     "output_type": "execute_result"
    },
    {
     "data": {
      "text/html": [
       "<div>\n",
       "<style scoped>\n",
       "    .dataframe tbody tr th:only-of-type {\n",
       "        vertical-align: middle;\n",
       "    }\n",
       "\n",
       "    .dataframe tbody tr th {\n",
       "        vertical-align: top;\n",
       "    }\n",
       "\n",
       "    .dataframe thead th {\n",
       "        text-align: right;\n",
       "    }\n",
       "</style>\n",
       "<table border=\"1\" class=\"dataframe\">\n",
       "  <thead>\n",
       "    <tr style=\"text-align: right;\">\n",
       "      <th></th>\n",
       "      <th>User_ID</th>\n",
       "      <th>Occupation</th>\n",
       "      <th>Marital_Status</th>\n",
       "      <th>Product_Category_1</th>\n",
       "      <th>Product_Category_2</th>\n",
       "      <th>Product_Category_3</th>\n",
       "      <th>Purchase</th>\n",
       "    </tr>\n",
       "  </thead>\n",
       "  <tbody>\n",
       "    <tr>\n",
       "      <td>count</td>\n",
       "      <td>5.500680e+05</td>\n",
       "      <td>550068.000000</td>\n",
       "      <td>550068.000000</td>\n",
       "      <td>550068.000000</td>\n",
       "      <td>376430.000000</td>\n",
       "      <td>166821.000000</td>\n",
       "      <td>550068.000000</td>\n",
       "    </tr>\n",
       "    <tr>\n",
       "      <td>mean</td>\n",
       "      <td>1.003029e+06</td>\n",
       "      <td>8.076707</td>\n",
       "      <td>0.409653</td>\n",
       "      <td>5.404270</td>\n",
       "      <td>9.842329</td>\n",
       "      <td>12.668243</td>\n",
       "      <td>9263.968713</td>\n",
       "    </tr>\n",
       "    <tr>\n",
       "      <td>std</td>\n",
       "      <td>1.727592e+03</td>\n",
       "      <td>6.522660</td>\n",
       "      <td>0.491770</td>\n",
       "      <td>3.936211</td>\n",
       "      <td>5.086590</td>\n",
       "      <td>4.125338</td>\n",
       "      <td>5023.065394</td>\n",
       "    </tr>\n",
       "    <tr>\n",
       "      <td>min</td>\n",
       "      <td>1.000001e+06</td>\n",
       "      <td>0.000000</td>\n",
       "      <td>0.000000</td>\n",
       "      <td>1.000000</td>\n",
       "      <td>2.000000</td>\n",
       "      <td>3.000000</td>\n",
       "      <td>12.000000</td>\n",
       "    </tr>\n",
       "    <tr>\n",
       "      <td>25%</td>\n",
       "      <td>1.001516e+06</td>\n",
       "      <td>2.000000</td>\n",
       "      <td>0.000000</td>\n",
       "      <td>1.000000</td>\n",
       "      <td>5.000000</td>\n",
       "      <td>9.000000</td>\n",
       "      <td>5823.000000</td>\n",
       "    </tr>\n",
       "    <tr>\n",
       "      <td>50%</td>\n",
       "      <td>1.003077e+06</td>\n",
       "      <td>7.000000</td>\n",
       "      <td>0.000000</td>\n",
       "      <td>5.000000</td>\n",
       "      <td>9.000000</td>\n",
       "      <td>14.000000</td>\n",
       "      <td>8047.000000</td>\n",
       "    </tr>\n",
       "    <tr>\n",
       "      <td>75%</td>\n",
       "      <td>1.004478e+06</td>\n",
       "      <td>14.000000</td>\n",
       "      <td>1.000000</td>\n",
       "      <td>8.000000</td>\n",
       "      <td>15.000000</td>\n",
       "      <td>16.000000</td>\n",
       "      <td>12054.000000</td>\n",
       "    </tr>\n",
       "    <tr>\n",
       "      <td>max</td>\n",
       "      <td>1.006040e+06</td>\n",
       "      <td>20.000000</td>\n",
       "      <td>1.000000</td>\n",
       "      <td>20.000000</td>\n",
       "      <td>18.000000</td>\n",
       "      <td>18.000000</td>\n",
       "      <td>23961.000000</td>\n",
       "    </tr>\n",
       "  </tbody>\n",
       "</table>\n",
       "</div>"
      ],
      "text/plain": [
       "            User_ID     Occupation  Marital_Status  Product_Category_1  \\\n",
       "count  5.500680e+05  550068.000000   550068.000000       550068.000000   \n",
       "mean   1.003029e+06       8.076707        0.409653            5.404270   \n",
       "std    1.727592e+03       6.522660        0.491770            3.936211   \n",
       "min    1.000001e+06       0.000000        0.000000            1.000000   \n",
       "25%    1.001516e+06       2.000000        0.000000            1.000000   \n",
       "50%    1.003077e+06       7.000000        0.000000            5.000000   \n",
       "75%    1.004478e+06      14.000000        1.000000            8.000000   \n",
       "max    1.006040e+06      20.000000        1.000000           20.000000   \n",
       "\n",
       "       Product_Category_2  Product_Category_3       Purchase  \n",
       "count       376430.000000       166821.000000  550068.000000  \n",
       "mean             9.842329           12.668243    9263.968713  \n",
       "std              5.086590            4.125338    5023.065394  \n",
       "min              2.000000            3.000000      12.000000  \n",
       "25%              5.000000            9.000000    5823.000000  \n",
       "50%              9.000000           14.000000    8047.000000  \n",
       "75%             15.000000           16.000000   12054.000000  \n",
       "max             18.000000           18.000000   23961.000000  "
      ]
     },
     "execution_count": 7,
     "metadata": {},
     "output_type": "execute_result"
    },
    {
     "data": {
      "text/plain": [
       "User_ID                            0\n",
       "Product_ID                         0\n",
       "Gender                             0\n",
       "Age                                0\n",
       "Occupation                         0\n",
       "City_Category                      0\n",
       "Stay_In_Current_City_Years         0\n",
       "Marital_Status                     0\n",
       "Product_Category_1                 0\n",
       "Product_Category_2            173638\n",
       "Product_Category_3            383247\n",
       "Purchase                           0\n",
       "dtype: int64"
      ]
     },
     "execution_count": 7,
     "metadata": {},
     "output_type": "execute_result"
    },
    {
     "data": {
      "text/plain": [
       "(550068, 12)"
      ]
     },
     "execution_count": 7,
     "metadata": {},
     "output_type": "execute_result"
    }
   ],
   "source": [
    "#Let see the first five rows of the dataset\n",
    "data.head()\n",
    "\n",
    "#Lets see some statistics about the data\n",
    "data.describe()\n",
    "\n",
    "#Lets see present total Nans in each column\n",
    "data.isnull().sum()\n",
    "\n",
    "data.shape"
   ]
  },
  {
   "cell_type": "code",
   "execution_count": 7,
   "metadata": {
    "slideshow": {
     "slide_type": "slide"
    }
   },
   "outputs": [
    {
     "name": "stdout",
     "output_type": "stream",
     "text": [
      "Product_Category_3    69.672659\n",
      "Product_Category_2    31.566643\n",
      "dtype: float64 %\n"
     ]
    }
   ],
   "source": [
    "missing_values = data.isnull().sum().sort_values(ascending = False)\n",
    "missing_values = missing_values[missing_values > 0]/data.shape[0]\n",
    "print(f'{missing_values *100} %')"
   ]
  },
  {
   "cell_type": "markdown",
   "metadata": {
    "slideshow": {
     "slide_type": "slide"
    }
   },
   "source": [
    "The column Product_Category_2 posses around 30% of missing data. Here it makes sense to fill missing values.\n",
    "Whereas, the column Product_Category_3 posses around 70% of missing data. So, here the missing values are being imputed by 0.\n",
    "\n",
    "30% of real data is a small ratio, we could fill missing values inside this category with the mean of the existing values, but that means that 70% of data will be artificial, which could ruin our future machine learning model. "
   ]
  },
  {
   "cell_type": "code",
   "execution_count": 8,
   "metadata": {},
   "outputs": [],
   "source": [
    "#data=data.fillna(0)\n",
    "data['Product_Category_2'].fillna((data['Product_Category_2'].mean()), inplace=True)\n",
    "data['Product_Category_3']=data['Product_Category_3'].fillna(0)"
   ]
  },
  {
   "cell_type": "code",
   "execution_count": 9,
   "metadata": {},
   "outputs": [
    {
     "data": {
      "text/plain": [
       "0"
      ]
     },
     "execution_count": 9,
     "metadata": {},
     "output_type": "execute_result"
    }
   ],
   "source": [
    "data.isnull().sum().sum()"
   ]
  },
  {
   "cell_type": "code",
   "execution_count": 11,
   "metadata": {},
   "outputs": [
    {
     "name": "stdout",
     "output_type": "stream",
     "text": [
      "Unique Values for Each Feature: \n",
      "\n",
      "User_ID : 5891\n",
      "Product_ID : 3631\n",
      "Gender : 2\n",
      "Age : 7\n",
      "Occupation : 21\n",
      "City_Category : 3\n",
      "Stay_In_Current_City_Years : 5\n",
      "Marital_Status : 2\n",
      "Product_Category_1 : 20\n",
      "Product_Category_2 : 18\n",
      "Product_Category_3 : 16\n",
      "Purchase : 18105\n"
     ]
    }
   ],
   "source": [
    "print('Unique Values for Each Feature: \\n')\n",
    "for i in data.columns:\n",
    "    print(i, ':',data[i].nunique())"
   ]
  },
  {
   "cell_type": "code",
   "execution_count": 12,
   "metadata": {
    "slideshow": {
     "slide_type": "slide"
    }
   },
   "outputs": [
    {
     "name": "stdout",
     "output_type": "stream",
     "text": [
      "Number of products: 3631\n",
      "Number of categories: 20\n"
     ]
    }
   ],
   "source": [
    "# Info about products\n",
    "print('Number of products:',data['Product_ID'].nunique())\n",
    "print('Number of categories:',data['Product_Category_1'].unique().max())"
   ]
  },
  {
   "cell_type": "code",
   "execution_count": 13,
   "metadata": {
    "slideshow": {
     "slide_type": "skip"
    }
   },
   "outputs": [
    {
     "name": "stdout",
     "output_type": "stream",
     "text": [
      "Number of shoppers: 5891\n",
      "Years in city: ['2' '4+' '3' '1' '0']\n",
      "Age Groups: ['0-17' '55+' '26-35' '46-50' '51-55' '36-45' '18-25']\n"
     ]
    }
   ],
   "source": [
    "print('Number of shoppers:',data['User_ID'].nunique())\n",
    "print('Years in city:',data['Stay_In_Current_City_Years'].unique())\n",
    "print('Age Groups:',data['Age'].unique())"
   ]
  },
  {
   "cell_type": "markdown",
   "metadata": {
    "slideshow": {
     "slide_type": "slide"
    }
   },
   "source": [
    "Looking at the data, we can conclude that our set possesses 12 different parameters: 7 numerical (integer and float) and 5 object variables. Furthermore, the dataset contains two short type variables: Product_Category_2 and Product_Category_3."
   ]
  },
  {
   "cell_type": "markdown",
   "metadata": {
    "slideshow": {
     "slide_type": "slide"
    }
   },
   "source": [
    "# Exploring the data for insights"
   ]
  },
  {
   "cell_type": "markdown",
   "metadata": {
    "slideshow": {
     "slide_type": "fragment"
    }
   },
   "source": [
    "### 1. Gender and age"
   ]
  },
  {
   "cell_type": "code",
   "execution_count": 14,
   "metadata": {
    "slideshow": {
     "slide_type": "subslide"
    }
   },
   "outputs": [
    {
     "data": {
      "text/plain": [
       "M    414259\n",
       "F    135809\n",
       "Name: Gender, dtype: int64"
      ]
     },
     "execution_count": 14,
     "metadata": {},
     "output_type": "execute_result"
    },
    {
     "data": {
      "text/plain": [
       "<matplotlib.axes._subplots.AxesSubplot at 0x2961ed04c48>"
      ]
     },
     "execution_count": 14,
     "metadata": {},
     "output_type": "execute_result"
    },
    {
     "data": {
      "image/png": "[encoded data removed]",
      "text/plain": [
       "<Figure size 432x288 with 1 Axes>"
      ]
     },
     "metadata": {},
     "output_type": "display_data"
    }
   ],
   "source": [
    "count_gender=data[\"Gender\"].value_counts()\n",
    "count_gender\n",
    "data[\"Gender\"].value_counts().plot.pie(title=\"Gender\", explode=(0.1, 0), \n",
    "                                       labels=[\"Male\", \"Female\"], autopct=\"%1.1f%%\", shadow=True)"
   ]
  },
  {
   "cell_type": "markdown",
   "metadata": {
    "slideshow": {
     "slide_type": "slide"
    }
   },
   "source": [
    "The graph shows that there are almost 3 times more male customers than female customers!\n",
    "Maybe male visitors are more likely to go out and buy something for their ladies when more deals are present.\n",
    "\n",
    "Let's explore the Gender category a bit more. We want to see now distribution of gender variable, but taking into consideration the Age category. Once again countplot function will be used, but now with defined hue parameter."
   ]
  },
  {
   "cell_type": "code",
   "execution_count": 15,
   "metadata": {},
   "outputs": [
    {
     "data": {
      "text/plain": [
       "array(['0-17', '55+', '26-35', '46-50', '51-55', '36-45', '18-25'],\n",
       "      dtype=object)"
      ]
     },
     "execution_count": 15,
     "metadata": {},
     "output_type": "execute_result"
    }
   ],
   "source": [
    "data['Age'].unique()"
   ]
  },
  {
   "cell_type": "code",
   "execution_count": 16,
   "metadata": {
    "slideshow": {
     "slide_type": "slide"
    }
   },
   "outputs": [
    {
     "data": {
      "text/plain": [
       "26-35    219587\n",
       "36-45    110013\n",
       "18-25     99660\n",
       "46-50     45701\n",
       "51-55     38501\n",
       "55+       21504\n",
       "0-17      15102\n",
       "Name: Age, dtype: int64"
      ]
     },
     "execution_count": 16,
     "metadata": {},
     "output_type": "execute_result"
    },
    {
     "data": {
      "text/plain": [
       "<matplotlib.axes._subplots.AxesSubplot at 0x2961ed43bc8>"
      ]
     },
     "execution_count": 16,
     "metadata": {},
     "output_type": "execute_result"
    },
    {
     "data": {
      "image/png": "[encoded data removed]",
      "text/plain": [
       "<Figure size 432x288 with 1 Axes>"
      ]
     },
     "metadata": {
      "needs_background": "light"
     },
     "output_type": "display_data"
    }
   ],
   "source": [
    "data['Age'].value_counts()\n",
    "sns.countplot(data['Age'])"
   ]
  },
  {
   "cell_type": "code",
   "execution_count": 17,
   "metadata": {
    "scrolled": true,
    "slideshow": {
     "slide_type": "slide"
    }
   },
   "outputs": [
    {
     "data": {
      "text/plain": [
       "Text(0.5, 1.0, 'Age&Gender')"
      ]
     },
     "execution_count": 17,
     "metadata": {},
     "output_type": "execute_result"
    },
    {
     "data": {
      "image/png": "[encoded data removed]",
      "text/plain": [
       "<Figure size 432x288 with 1 Axes>"
      ]
     },
     "metadata": {
      "needs_background": "light"
     },
     "output_type": "display_data"
    }
   ],
   "source": [
    "sns.countplot(data[\"Age\"], hue=data[\"Gender\"]).set_title(\"Age&Gender\")"
   ]
  },
  {
   "cell_type": "markdown",
   "metadata": {
    "slideshow": {
     "slide_type": "slide"
    }
   },
   "source": [
    "From the age and gender figures, we can see several interesting things. First of all, the main customers for black friday sale are male(over 70 percent), especially those of age 26-35, who account for almost one third of male cuntomers of all ages. \n",
    "\n",
    "From the figure above, we can easily conclude that the highest number of customers belong to the age group between 26 and 35, for both genders. Younger and older population are far less represented on Black Friday. Based on these results, the retail store should sell most of the products that target people in their late twenties to early thirties. To increase profits, the number of products targeting people around their thirties can be increased while the number of products that target the older or younger population can be reduced."
   ]
  },
  {
   "cell_type": "code",
   "execution_count": 18,
   "metadata": {
    "slideshow": {
     "slide_type": "slide"
    }
   },
   "outputs": [
    {
     "data": {
      "text/plain": [
       "[<matplotlib.lines.Line2D at 0x2961ee66288>]"
      ]
     },
     "execution_count": 18,
     "metadata": {},
     "output_type": "execute_result"
    },
    {
     "data": {
      "text/plain": [
       "([<matplotlib.axis.XTick at 0x2961ee765c8>,\n",
       "  <matplotlib.axis.XTick at 0x2961ee73c88>],\n",
       " <a list of 2 Text xticklabel objects>)"
      ]
     },
     "execution_count": 18,
     "metadata": {},
     "output_type": "execute_result"
    },
    {
     "data": {
      "text/plain": [
       "Text(0.5, 1.0, 'Mean purchase of different gender')"
      ]
     },
     "execution_count": 18,
     "metadata": {},
     "output_type": "execute_result"
    },
    {
     "data": {
      "image/png": "[encoded data removed]",
      "text/plain": [
       "<Figure size 432x288 with 1 Axes>"
      ]
     },
     "metadata": {
      "needs_background": "light"
     },
     "output_type": "display_data"
    }
   ],
   "source": [
    "x = data.groupby([\"Gender\"]).mean()[[\"Purchase\"]].index\n",
    "y = data.groupby([\"Gender\"]).mean()[[\"Purchase\"]].values\n",
    "plt.plot(x, y,'rd')\n",
    "plt.xticks(x, [\"Female\", \"Male\"])\n",
    "plt.title(\"Mean purchase of different gender\")"
   ]
  },
  {
   "cell_type": "markdown",
   "metadata": {
    "slideshow": {
     "slide_type": "skip"
    }
   },
   "source": [
    "Secondly, the figure of mean purchase of different gender shows that individual male customer also spends more than their female counterpart. "
   ]
  },
  {
   "cell_type": "markdown",
   "metadata": {
    "slideshow": {
     "slide_type": "fragment"
    }
   },
   "source": [
    "In spite of gender, people between age of 18 and 45 have made up the most of black friday sales. \n",
    "Young men showed greater purchasing power overall, but it's also possible that male customers are paying when shopping together with females."
   ]
  },
  {
   "cell_type": "markdown",
   "metadata": {
    "slideshow": {
     "slide_type": "skip"
    }
   },
   "source": [
    "### 2.User ID"
   ]
  },
  {
   "cell_type": "code",
   "execution_count": 19,
   "metadata": {
    "slideshow": {
     "slide_type": "skip"
    }
   },
   "outputs": [
    {
     "data": {
      "text/plain": [
       "5891"
      ]
     },
     "execution_count": 19,
     "metadata": {},
     "output_type": "execute_result"
    },
    {
     "data": {
      "text/plain": [
       "3631"
      ]
     },
     "execution_count": 19,
     "metadata": {},
     "output_type": "execute_result"
    }
   ],
   "source": [
    "data['User_ID'].nunique()\n",
    "data['Product_ID'].nunique()"
   ]
  },
  {
   "cell_type": "markdown",
   "metadata": {
    "slideshow": {
     "slide_type": "fragment"
    }
   },
   "source": [
    "we analyze the User_ID column using the nunique method. From this we can conclude that in this specific retail store, during Black Friday, 5,891 different customers have bought something from the store. Also, from Product_ID category we can extract information that 3,631 different products are sold."
   ]
  },
  {
   "cell_type": "markdown",
   "metadata": {
    "slideshow": {
     "slide_type": "slide"
    }
   },
   "source": [
    "### 3. City"
   ]
  },
  {
   "cell_type": "markdown",
   "metadata": {
    "slideshow": {
     "slide_type": "fragment"
    }
   },
   "source": [
    "City_Category variable is the next one. This category gives us information about cities from which our customers are."
   ]
  },
  {
   "cell_type": "code",
   "execution_count": 20,
   "metadata": {
    "slideshow": {
     "slide_type": "slide"
    }
   },
   "outputs": [
    {
     "data": {
      "text/plain": [
       "B    231173\n",
       "C    171175\n",
       "A    147720\n",
       "Name: City_Category, dtype: int64"
      ]
     },
     "execution_count": 20,
     "metadata": {},
     "output_type": "execute_result"
    },
    {
     "data": {
      "text/plain": [
       "<matplotlib.axes._subplots.AxesSubplot at 0x2961eeb96c8>"
      ]
     },
     "execution_count": 20,
     "metadata": {},
     "output_type": "execute_result"
    },
    {
     "data": {
      "image/png": "[encoded data removed]",
      "text/plain": [
       "<Figure size 432x288 with 1 Axes>"
      ]
     },
     "metadata": {},
     "output_type": "display_data"
    }
   ],
   "source": [
    "city_count=data[\"City_Category\"].value_counts()\n",
    "city_count\n",
    "city_count.plot.pie(title=\"City_Category\", \n",
    "                        startangle=90, explode=(0.1, 0, 0), autopct=\"%1.1f%%\", shadow=True)"
   ]
  },
  {
   "cell_type": "markdown",
   "metadata": {
    "slideshow": {
     "slide_type": "skip"
    }
   },
   "source": [
    "It is evident from the pie chart that all the three cities are almost equally represented in the retail store during Black Fridays. Maybe the store is somewhere between these three cities, is easily accessible and has good road connections from these cities."
   ]
  },
  {
   "cell_type": "code",
   "execution_count": 21,
   "metadata": {
    "slideshow": {
     "slide_type": "slide"
    }
   },
   "outputs": [
    {
     "data": {
      "text/plain": [
       "City_Category\n",
       "A    1316471661\n",
       "B    2115533605\n",
       "C    1663807476\n",
       "Name: Purchase, dtype: int64"
      ]
     },
     "execution_count": 21,
     "metadata": {},
     "output_type": "execute_result"
    }
   ],
   "source": [
    "#Purchase city wise\n",
    "citygroup=data.groupby(\"City_Category\")[\"Purchase\"].sum()\n",
    "citygroup"
   ]
  },
  {
   "cell_type": "code",
   "execution_count": 22,
   "metadata": {
    "slideshow": {
     "slide_type": "slide"
    }
   },
   "outputs": [
    {
     "data": {
      "text/plain": [
       "<matplotlib.axes._subplots.AxesSubplot at 0x2961ef21b08>"
      ]
     },
     "execution_count": 22,
     "metadata": {},
     "output_type": "execute_result"
    },
    {
     "data": {
      "image/png": "[encoded data removed]",
      "text/plain": [
       "<Figure size 432x288 with 1 Axes>"
      ]
     },
     "metadata": {},
     "output_type": "display_data"
    }
   ],
   "source": [
    "citygroup.plot.pie(title=\"City_Category\", startangle=90, explode=(0.1, 0.1, 0.1), autopct=\"%1.1f%%\", shadow=True)"
   ]
  },
  {
   "cell_type": "code",
   "execution_count": 23,
   "metadata": {
    "slideshow": {
     "slide_type": "slide"
    }
   },
   "outputs": [
    {
     "data": {
      "text/plain": [
       "<matplotlib.axes._subplots.AxesSubplot at 0x2961ef7a548>"
      ]
     },
     "execution_count": 23,
     "metadata": {},
     "output_type": "execute_result"
    },
    {
     "data": {
      "text/plain": [
       "(array([0, 1, 2]), <a list of 3 Text xticklabel objects>)"
      ]
     },
     "execution_count": 23,
     "metadata": {},
     "output_type": "execute_result"
    },
    {
     "data": {
      "image/png": "[encoded data removed]",
      "text/plain": [
       "<Figure size 432x288 with 1 Axes>"
      ]
     },
     "metadata": {
      "needs_background": "light"
     },
     "output_type": "display_data"
    }
   ],
   "source": [
    "citygroup.plot.bar(title=\"city_category&Purchase\")\n",
    "plt.xticks(rotation=360)\n",
    "sns.despine()"
   ]
  },
  {
   "cell_type": "code",
   "execution_count": 24,
   "metadata": {
    "slideshow": {
     "slide_type": "slide"
    }
   },
   "outputs": [
    {
     "data": {
      "text/plain": [
       "[<matplotlib.lines.Line2D at 0x2961f001a48>]"
      ]
     },
     "execution_count": 24,
     "metadata": {},
     "output_type": "execute_result"
    },
    {
     "data": {
      "text/plain": [
       "Text(0.5, 1.0, 'Mean purchase of different city categories')"
      ]
     },
     "execution_count": 24,
     "metadata": {},
     "output_type": "execute_result"
    },
    {
     "data": {
      "image/png": "[encoded data removed]",
      "text/plain": [
       "<Figure size 432x288 with 1 Axes>"
      ]
     },
     "metadata": {
      "needs_background": "light"
     },
     "output_type": "display_data"
    }
   ],
   "source": [
    "x = data.groupby([\"City_Category\"]).mean()[[\"Purchase\"]].index\n",
    "y = data.groupby([\"City_Category\"]).mean()[[\"Purchase\"]].values\n",
    "plt.plot(x, y,\"ro\")\n",
    "plt.title(\"Mean purchase of different city categories\")\n",
    "sns.despine()"
   ]
  },
  {
   "cell_type": "markdown",
   "metadata": {},
   "source": [
    "Customers from C_category cities make up more than half of our black friday sales. \n",
    "Surprisingly, although there are not very many customers from B_type city. \n",
    "On the contrary, we didn't get very many customers from A_type city and they spent the least in our store. \n",
    "This can be noted when making future marketing plans."
   ]
  },
  {
   "cell_type": "markdown",
   "metadata": {
    "slideshow": {
     "slide_type": "slide"
    }
   },
   "source": [
    "### 4.Occupation"
   ]
  },
  {
   "cell_type": "code",
   "execution_count": 25,
   "metadata": {
    "slideshow": {
     "slide_type": "fragment"
    }
   },
   "outputs": [
    {
     "data": {
      "text/plain": [
       "<matplotlib.axes._subplots.AxesSubplot at 0x2961f043408>"
      ]
     },
     "execution_count": 25,
     "metadata": {},
     "output_type": "execute_result"
    },
    {
     "data": {
      "image/png": "[encoded data removed]",
      "text/plain": [
       "<Figure size 432x288 with 1 Axes>"
      ]
     },
     "metadata": {
      "needs_background": "light"
     },
     "output_type": "display_data"
    }
   ],
   "source": [
    "sns.countplot(data['Occupation'])"
   ]
  },
  {
   "cell_type": "code",
   "execution_count": 53,
   "metadata": {
    "slideshow": {
     "slide_type": "skip"
    }
   },
   "outputs": [
    {
     "data": {
      "text/plain": [
       "<BarContainer object of 21 artists>"
      ]
     },
     "execution_count": 53,
     "metadata": {},
     "output_type": "execute_result"
    },
    {
     "data": {
      "text/plain": [
       "([<matplotlib.axis.XTick at 0x296211ab208>,\n",
       "  <matplotlib.axis.XTick at 0x296211b73c8>,\n",
       "  <matplotlib.axis.XTick at 0x296211b7708>,\n",
       "  <matplotlib.axis.XTick at 0x2962121de48>,\n",
       "  <matplotlib.axis.XTick at 0x296212224c8>,\n",
       "  <matplotlib.axis.XTick at 0x29621222b48>,\n",
       "  <matplotlib.axis.XTick at 0x29621226248>,\n",
       "  <matplotlib.axis.XTick at 0x29621226908>,\n",
       "  <matplotlib.axis.XTick at 0x29621226cc8>,\n",
       "  <matplotlib.axis.XTick at 0x2962122b688>,\n",
       "  <matplotlib.axis.XTick at 0x29621230088>,\n",
       "  <matplotlib.axis.XTick at 0x29621226d08>,\n",
       "  <matplotlib.axis.XTick at 0x29621222048>,\n",
       "  <matplotlib.axis.XTick at 0x29621230f48>,\n",
       "  <matplotlib.axis.XTick at 0x296212357c8>,\n",
       "  <matplotlib.axis.XTick at 0x29621239088>,\n",
       "  <matplotlib.axis.XTick at 0x29621239a88>,\n",
       "  <matplotlib.axis.XTick at 0x2962123d4c8>,\n",
       "  <matplotlib.axis.XTick at 0x2962123d2c8>,\n",
       "  <matplotlib.axis.XTick at 0x29621241908>,\n",
       "  <matplotlib.axis.XTick at 0x29621247348>],\n",
       " <a list of 21 Text xticklabel objects>)"
      ]
     },
     "execution_count": 53,
     "metadata": {},
     "output_type": "execute_result"
    },
    {
     "data": {
      "text/plain": [
       "Text(0, 0.5, 'Purchase amount')"
      ]
     },
     "execution_count": 53,
     "metadata": {},
     "output_type": "execute_result"
    },
    {
     "data": {
      "text/plain": [
       "Text(0.5, 1.0, 'Occupation ID')"
      ]
     },
     "execution_count": 53,
     "metadata": {},
     "output_type": "execute_result"
    },
    {
     "data": {
      "image/png": "[encoded data removed]",
      "text/plain": [
       "<Figure size 432x288 with 1 Axes>"
      ]
     },
     "metadata": {
      "needs_background": "light"
     },
     "output_type": "display_data"
    }
   ],
   "source": [
    "#Purchase Occupation wise\n",
    "occupation_group=data.groupby(\"Occupation\")[\"Purchase\"].sum()\n",
    "#occupation_group\n",
    "objects = ('0', '1', '2', '3', '4', '5','6','7','8','9','10', '11','12', '13', '14', '15', '16', '17', '18', '19', '20')\n",
    "y_pos = np.arange(len(objects))\n",
    "\n",
    "plt.bar(y_pos, occupation_group, align='center', alpha=0.5)\n",
    "plt.xticks(y_pos, objects)\n",
    "plt.ylabel('Purchase amount')\n",
    "plt.title('Occupation ID')\n",
    "\n",
    "#plt.show()"
   ]
  },
  {
   "cell_type": "markdown",
   "metadata": {
    "slideshow": {
     "slide_type": "slide"
    }
   },
   "source": [
    "<b>Purchase Occupation wise:-</b>\n",
    "![alt text](occvspurchase.png \"Title\")"
   ]
  },
  {
   "cell_type": "markdown",
   "metadata": {
    "slideshow": {
     "slide_type": "slide"
    }
   },
   "source": [
    "### 5. Marital_Status"
   ]
  },
  {
   "cell_type": "code",
   "execution_count": 27,
   "metadata": {
    "slideshow": {
     "slide_type": "skip"
    }
   },
   "outputs": [
    {
     "data": {
      "text/plain": [
       "0    324731\n",
       "1    225337\n",
       "Name: Marital_Status, dtype: int64"
      ]
     },
     "execution_count": 27,
     "metadata": {},
     "output_type": "execute_result"
    }
   ],
   "source": [
    "data['Marital_Status'].value_counts()\n",
    "#0 for single, 1 for married"
   ]
  },
  {
   "cell_type": "code",
   "execution_count": 28,
   "metadata": {
    "slideshow": {
     "slide_type": "fragment"
    }
   },
   "outputs": [
    {
     "data": {
      "text/plain": [
       "<matplotlib.axes._subplots.AxesSubplot at 0x2962076ab88>"
      ]
     },
     "execution_count": 28,
     "metadata": {},
     "output_type": "execute_result"
    },
    {
     "data": {
      "text/plain": [
       "Text(0.5, 1.0, 'Occupation Distribution')"
      ]
     },
     "execution_count": 28,
     "metadata": {},
     "output_type": "execute_result"
    },
    {
     "data": {
      "image/png": "[encoded data removed]",
      "text/plain": [
       "<Figure size 432x288 with 1 Axes>"
      ]
     },
     "metadata": {
      "needs_background": "light"
     },
     "output_type": "display_data"
    }
   ],
   "source": [
    "sns.countplot(data['Marital_Status'])\n",
    "plt.title('Occupation Distribution')\n",
    "plt.show()"
   ]
  },
  {
   "cell_type": "code",
   "execution_count": 29,
   "metadata": {
    "slideshow": {
     "slide_type": "slide"
    }
   },
   "outputs": [
    {
     "data": {
      "text/plain": [
       "<matplotlib.axes._subplots.AxesSubplot at 0x296207c9548>"
      ]
     },
     "execution_count": 29,
     "metadata": {},
     "output_type": "execute_result"
    },
    {
     "data": {
      "image/png": "[encoded data removed]",
      "text/plain": [
       "<Figure size 432x288 with 1 Axes>"
      ]
     },
     "metadata": {},
     "output_type": "display_data"
    }
   ],
   "source": [
    "#Purchase Marital_Status wise\n",
    "Marital_Status_group=data.groupby(\"Marital_Status\")[\"Purchase\"].sum()\n",
    "Marital_Status_group.plot.pie(title=\"Marital_Status\", startangle=90, explode=(0.1, 0.1), autopct=\"%1.1f%%\", shadow=True)"
   ]
  },
  {
   "cell_type": "code",
   "execution_count": 30,
   "metadata": {
    "slideshow": {
     "slide_type": "skip"
    }
   },
   "outputs": [
    {
     "data": {
      "text/plain": [
       "5095812742"
      ]
     },
     "execution_count": 30,
     "metadata": {},
     "output_type": "execute_result"
    }
   ],
   "source": [
    "data['Purchase'].sum()"
   ]
  },
  {
   "cell_type": "code",
   "execution_count": 31,
   "metadata": {
    "slideshow": {
     "slide_type": "skip"
    }
   },
   "outputs": [
    {
     "data": {
      "text/html": [
       "<div>\n",
       "<style scoped>\n",
       "    .dataframe tbody tr th:only-of-type {\n",
       "        vertical-align: middle;\n",
       "    }\n",
       "\n",
       "    .dataframe tbody tr th {\n",
       "        vertical-align: top;\n",
       "    }\n",
       "\n",
       "    .dataframe thead th {\n",
       "        text-align: right;\n",
       "    }\n",
       "</style>\n",
       "<table border=\"1\" class=\"dataframe\">\n",
       "  <thead>\n",
       "    <tr style=\"text-align: right;\">\n",
       "      <th></th>\n",
       "      <th>User_ID</th>\n",
       "      <th>Occupation</th>\n",
       "      <th>Marital_Status</th>\n",
       "      <th>Product_Category_1</th>\n",
       "      <th>Product_Category_2</th>\n",
       "      <th>Product_Category_3</th>\n",
       "      <th>Purchase</th>\n",
       "    </tr>\n",
       "  </thead>\n",
       "  <tbody>\n",
       "    <tr>\n",
       "      <td>count</td>\n",
       "      <td>5.500680e+05</td>\n",
       "      <td>550068.000000</td>\n",
       "      <td>550068.000000</td>\n",
       "      <td>550068.000000</td>\n",
       "      <td>550068.000000</td>\n",
       "      <td>550068.000000</td>\n",
       "      <td>550068.000000</td>\n",
       "    </tr>\n",
       "    <tr>\n",
       "      <td>mean</td>\n",
       "      <td>1.003029e+06</td>\n",
       "      <td>8.076707</td>\n",
       "      <td>0.409653</td>\n",
       "      <td>5.404270</td>\n",
       "      <td>9.842329</td>\n",
       "      <td>3.841941</td>\n",
       "      <td>9263.968713</td>\n",
       "    </tr>\n",
       "    <tr>\n",
       "      <td>std</td>\n",
       "      <td>1.727592e+03</td>\n",
       "      <td>6.522660</td>\n",
       "      <td>0.491770</td>\n",
       "      <td>3.936211</td>\n",
       "      <td>4.207852</td>\n",
       "      <td>6.250712</td>\n",
       "      <td>5023.065394</td>\n",
       "    </tr>\n",
       "    <tr>\n",
       "      <td>min</td>\n",
       "      <td>1.000001e+06</td>\n",
       "      <td>0.000000</td>\n",
       "      <td>0.000000</td>\n",
       "      <td>1.000000</td>\n",
       "      <td>2.000000</td>\n",
       "      <td>0.000000</td>\n",
       "      <td>12.000000</td>\n",
       "    </tr>\n",
       "    <tr>\n",
       "      <td>25%</td>\n",
       "      <td>1.001516e+06</td>\n",
       "      <td>2.000000</td>\n",
       "      <td>0.000000</td>\n",
       "      <td>1.000000</td>\n",
       "      <td>8.000000</td>\n",
       "      <td>0.000000</td>\n",
       "      <td>5823.000000</td>\n",
       "    </tr>\n",
       "    <tr>\n",
       "      <td>50%</td>\n",
       "      <td>1.003077e+06</td>\n",
       "      <td>7.000000</td>\n",
       "      <td>0.000000</td>\n",
       "      <td>5.000000</td>\n",
       "      <td>9.842329</td>\n",
       "      <td>0.000000</td>\n",
       "      <td>8047.000000</td>\n",
       "    </tr>\n",
       "    <tr>\n",
       "      <td>75%</td>\n",
       "      <td>1.004478e+06</td>\n",
       "      <td>14.000000</td>\n",
       "      <td>1.000000</td>\n",
       "      <td>8.000000</td>\n",
       "      <td>14.000000</td>\n",
       "      <td>8.000000</td>\n",
       "      <td>12054.000000</td>\n",
       "    </tr>\n",
       "    <tr>\n",
       "      <td>max</td>\n",
       "      <td>1.006040e+06</td>\n",
       "      <td>20.000000</td>\n",
       "      <td>1.000000</td>\n",
       "      <td>20.000000</td>\n",
       "      <td>18.000000</td>\n",
       "      <td>18.000000</td>\n",
       "      <td>23961.000000</td>\n",
       "    </tr>\n",
       "  </tbody>\n",
       "</table>\n",
       "</div>"
      ],
      "text/plain": [
       "            User_ID     Occupation  Marital_Status  Product_Category_1  \\\n",
       "count  5.500680e+05  550068.000000   550068.000000       550068.000000   \n",
       "mean   1.003029e+06       8.076707        0.409653            5.404270   \n",
       "std    1.727592e+03       6.522660        0.491770            3.936211   \n",
       "min    1.000001e+06       0.000000        0.000000            1.000000   \n",
       "25%    1.001516e+06       2.000000        0.000000            1.000000   \n",
       "50%    1.003077e+06       7.000000        0.000000            5.000000   \n",
       "75%    1.004478e+06      14.000000        1.000000            8.000000   \n",
       "max    1.006040e+06      20.000000        1.000000           20.000000   \n",
       "\n",
       "       Product_Category_2  Product_Category_3       Purchase  \n",
       "count       550068.000000       550068.000000  550068.000000  \n",
       "mean             9.842329            3.841941    9263.968713  \n",
       "std              4.207852            6.250712    5023.065394  \n",
       "min              2.000000            0.000000      12.000000  \n",
       "25%              8.000000            0.000000    5823.000000  \n",
       "50%              9.842329            0.000000    8047.000000  \n",
       "75%             14.000000            8.000000   12054.000000  \n",
       "max             18.000000           18.000000   23961.000000  "
      ]
     },
     "execution_count": 31,
     "metadata": {},
     "output_type": "execute_result"
    }
   ],
   "source": [
    "data.describe()"
   ]
  },
  {
   "cell_type": "markdown",
   "metadata": {
    "slideshow": {
     "slide_type": "slide"
    }
   },
   "source": [
    "### 4. Residence Stability"
   ]
  },
  {
   "cell_type": "code",
   "execution_count": 32,
   "metadata": {
    "slideshow": {
     "slide_type": "slide"
    }
   },
   "outputs": [
    {
     "data": {
      "text/plain": [
       "<matplotlib.axes._subplots.AxesSubplot at 0x29620814548>"
      ]
     },
     "execution_count": 32,
     "metadata": {},
     "output_type": "execute_result"
    },
    {
     "data": {
      "image/png": "[encoded data removed]",
      "text/plain": [
       "<Figure size 432x288 with 1 Axes>"
      ]
     },
     "metadata": {},
     "output_type": "display_data"
    }
   ],
   "source": [
    "data[\"Stay_In_Current_City_Years\"].value_counts().plot.pie(title=\"Years of staying in the city\",\n",
    "                                                explode=(0.1, 0, 0, 0, 0), autopct=\"%1.1f%%\", shadow=True)"
   ]
  },
  {
   "cell_type": "markdown",
   "metadata": {
    "slideshow": {
     "slide_type": "skip"
    }
   },
   "source": [
    "New residents(one year or less) consist of around half of our black friday customers, which shows that gthe store appears to be more popular for new comers. People who have been living in current city for longer spend a bit more than new comers. Since they chose to stay with the store, we do need to find out what kept them loyal so that better plans can be made to keep more customers instead of losing them over time."
   ]
  },
  {
   "cell_type": "markdown",
   "metadata": {
    "slideshow": {
     "slide_type": "slide"
    }
   },
   "source": [
    "### 5. Product"
   ]
  },
  {
   "cell_type": "code",
   "execution_count": 41,
   "metadata": {
    "slideshow": {
     "slide_type": "fragment"
    }
   },
   "outputs": [
    {
     "data": {
      "text/plain": [
       "<matplotlib.axes._subplots.AxesSubplot at 0x29628a8a548>"
      ]
     },
     "execution_count": 41,
     "metadata": {},
     "output_type": "execute_result"
    },
    {
     "data": {
      "text/plain": [
       "(array([0, 1, 2]), <a list of 3 Text xticklabel objects>)"
      ]
     },
     "execution_count": 41,
     "metadata": {},
     "output_type": "execute_result"
    },
    {
     "data": {
      "image/png": "[encoded data removed]",
      "text/plain": [
       "<Figure size 432x288 with 1 Axes>"
      ]
     },
     "metadata": {
      "needs_background": "light"
     },
     "output_type": "display_data"
    }
   ],
   "source": [
    "data.sum()[[\"Product_Category_1\", \"Product_Category_2\", \"Product_Category_3\"]].plot.bar(title=\"Products sold\", color=\"green\")\n",
    "plt.xticks(rotation=45)"
   ]
  },
  {
   "cell_type": "code",
   "execution_count": 34,
   "metadata": {
    "slideshow": {
     "slide_type": "skip"
    }
   },
   "outputs": [
    {
     "data": {
      "text/plain": [
       "<matplotlib.axes._subplots.AxesSubplot at 0x29625f73848>"
      ]
     },
     "execution_count": 34,
     "metadata": {},
     "output_type": "execute_result"
    },
    {
     "data": {
      "image/png": "[encoded data removed]",
      "text/plain": [
       "<Figure size 432x288 with 1 Axes>"
      ]
     },
     "metadata": {
      "needs_background": "light"
     },
     "output_type": "display_data"
    }
   ],
   "source": [
    "#data.groupby([\"Occupation\"]).mean()[[\"Product_Category_1\", \"Product_Category_2\", \"Product_Category_3\"]].plot.line(title=\"Gender&Product\")"
   ]
  },
  {
   "cell_type": "code",
   "execution_count": 10,
   "metadata": {
    "slideshow": {
     "slide_type": "slide"
    }
   },
   "outputs": [
    {
     "data": {
      "text/plain": [
       "<matplotlib.axes._subplots.AxesSubplot at 0x275800f8ec8>"
      ]
     },
     "execution_count": 10,
     "metadata": {},
     "output_type": "execute_result"
    },
    {
     "data": {
      "image/png": "[encoded data removed]",
      "text/plain": [
       "<Figure size 432x288 with 1 Axes>"
      ]
     },
     "metadata": {
      "needs_background": "light"
     },
     "output_type": "display_data"
    }
   ],
   "source": [
    "data.groupby([\"City_Category\"]).mean()[[\"Product_Category_1\", \"Product_Category_2\", \"Product_Category_3\"]].plot.bar(title=\"City&Product\")"
   ]
  },
  {
   "cell_type": "markdown",
   "metadata": {
    "slideshow": {
     "slide_type": "fragment"
    }
   },
   "source": [
    "Products under category 2 are our most popular items, and this is true for all kinds of customers coming from different backgrounds.\n",
    "\n",
    "Above is some analysis about trends of our black friday sale as well as correlations between different demograghical features and purchase, these relationships can be valuable when trying to maximize profit. Now we will try to predict future sales with these data."
   ]
  },
  {
   "cell_type": "markdown",
   "metadata": {
    "slideshow": {
     "slide_type": "skip"
    }
   },
   "source": [
    "### 6.Purchase(target variable)"
   ]
  },
  {
   "cell_type": "code",
   "execution_count": 36,
   "metadata": {
    "slideshow": {
     "slide_type": "skip"
    }
   },
   "outputs": [
    {
     "data": {
      "text/plain": [
       "<matplotlib.axes._subplots.AxesSubplot at 0x29620969d08>"
      ]
     },
     "execution_count": 36,
     "metadata": {},
     "output_type": "execute_result"
    },
    {
     "data": {
      "image/png": "[encoded data removed]",
      "text/plain": [
       "<Figure size 432x288 with 1 Axes>"
      ]
     },
     "metadata": {
      "needs_background": "light"
     },
     "output_type": "display_data"
    }
   ],
   "source": [
    "sns.boxplot(data['Purchase'])\n",
    "plt.show()"
   ]
  },
  {
   "cell_type": "code",
   "execution_count": 37,
   "metadata": {
    "slideshow": {
     "slide_type": "skip"
    }
   },
   "outputs": [
    {
     "data": {
      "text/plain": [
       "<seaborn.axisgrid.PairGrid at 0x29620e1ad88>"
      ]
     },
     "execution_count": 37,
     "metadata": {},
     "output_type": "execute_result"
    },
    {
     "data": {
      "image/png": "[encoded data removed]",
      "text/plain": [
       "<Figure size 2592x288 with 3 Axes>"
      ]
     },
     "metadata": {
      "needs_background": "light"
     },
     "output_type": "display_data"
    }
   ],
   "source": [
    "# Let's see how Sales are related with other variables using scatter plot.\n",
    "sns.pairplot(data, x_vars=['Gender', 'Age', 'Occupation'], y_vars='Purchase', height=4, aspect=3, kind='scatter')\n",
    "plt.show()"
   ]
  },
  {
   "cell_type": "markdown",
   "metadata": {
    "slideshow": {
     "slide_type": "slide"
    }
   },
   "source": [
    "### Predict future Sales(Purchase)"
   ]
  },
  {
   "cell_type": "code",
   "execution_count": 55,
   "metadata": {
    "slideshow": {
     "slide_type": "skip"
    }
   },
   "outputs": [
    {
     "data": {
      "text/plain": [
       "Index(['User_ID', 'Product_ID', 'Gender', 'Age', 'Occupation', 'City_Category',\n",
       "       'Stay_In_Current_City_Years', 'Marital_Status', 'Product_Category_1',\n",
       "       'Product_Category_2', 'Product_Category_3', 'Purchase'],\n",
       "      dtype='object')"
      ]
     },
     "execution_count": 55,
     "metadata": {},
     "output_type": "execute_result"
    }
   ],
   "source": [
    "data.columns"
   ]
  },
  {
   "cell_type": "code",
   "execution_count": 91,
   "metadata": {
    "slideshow": {
     "slide_type": "skip"
    }
   },
   "outputs": [
    {
     "data": {
      "text/plain": [
       "Text(0.5, 1, 'Correlation between features')"
      ]
     },
     "execution_count": 91,
     "metadata": {},
     "output_type": "execute_result"
    },
    {
     "data": {
      "image/png": "[encoded data removed]",
      "text/plain": [
       "<Figure size 1440x864 with 2 Axes>"
      ]
     },
     "metadata": {
      "needs_background": "light"
     },
     "output_type": "display_data"
    }
   ],
   "source": [
    "#data.info()\n",
    "fig, ax = plt.subplots(figsize=(20, 12))\n",
    "sns.heatmap(data.corr(), annot=True, cmap=\"YlGnBu\").set_title(\"Correlation between features\")"
   ]
  },
  {
   "cell_type": "code",
   "execution_count": 88,
   "metadata": {
    "slideshow": {
     "slide_type": "skip"
    }
   },
   "outputs": [
    {
     "data": {
      "image/png": "[encoded data removed]",
      "text/plain": [
       "<Figure size 2160x720 with 2 Axes>"
      ]
     },
     "metadata": {
      "needs_background": "light"
     },
     "output_type": "display_data"
    }
   ],
   "source": [
    "#correlation matrix\n",
    "\n",
    "corr = data.corr()\n",
    "f, ax = plt.subplots(figsize=(30, 10))\n",
    "sns.heatmap(corr, vmax=.8,annot_kws={'size': 15}, annot=True);"
   ]
  },
  {
   "cell_type": "markdown",
   "metadata": {
    "slideshow": {
     "slide_type": "skip"
    }
   },
   "source": [
    "From the heatmap above we can observe there are strong correlations between different types' products and purchase. There is also some correlation between age and marital status which is in line with common sense. Unfortunately, there is no single feature that shows strong correlation with purchase directly, so we can understand this as that purchase depends on the ensemble of all features.\n",
    "\n",
    "User_ID is is the number assigned automatically to each customer, and it is not useful for prediction purposes.\n",
    "\n",
    "The Product_ID column contains information about the product purchased. It is not a feature of the customer. Therefore, we will remove that too."
   ]
  },
  {
   "cell_type": "code",
   "execution_count": null,
   "metadata": {
    "slideshow": {
     "slide_type": "skip"
    }
   },
   "outputs": [],
   "source": [
    "# data = data.drop(['User_ID','Product_ID'], axis=1)\n",
    "# data.info()"
   ]
  },
  {
   "cell_type": "code",
   "execution_count": 57,
   "metadata": {
    "slideshow": {
     "slide_type": "skip"
    }
   },
   "outputs": [
    {
     "name": "stdout",
     "output_type": "stream",
     "text": [
      "<class 'pandas.core.frame.DataFrame'>\n",
      "RangeIndex: 550068 entries, 0 to 550067\n",
      "Data columns (total 12 columns):\n",
      "User_ID                       550068 non-null int64\n",
      "Product_ID                    550068 non-null object\n",
      "Gender                        550068 non-null int32\n",
      "Age                           550068 non-null int32\n",
      "Occupation                    550068 non-null int64\n",
      "City_Category                 550068 non-null int32\n",
      "Stay_In_Current_City_Years    550068 non-null int32\n",
      "Marital_Status                550068 non-null int64\n",
      "Product_Category_1            550068 non-null int64\n",
      "Product_Category_2            550068 non-null int64\n",
      "Product_Category_3            550068 non-null int64\n",
      "Purchase                      550068 non-null int64\n",
      "dtypes: int32(4), int64(7), object(1)\n",
      "memory usage: 42.0+ MB\n"
     ]
    },
    {
     "data": {
      "text/html": [
       "<div>\n",
       "<style scoped>\n",
       "    .dataframe tbody tr th:only-of-type {\n",
       "        vertical-align: middle;\n",
       "    }\n",
       "\n",
       "    .dataframe tbody tr th {\n",
       "        vertical-align: top;\n",
       "    }\n",
       "\n",
       "    .dataframe thead th {\n",
       "        text-align: right;\n",
       "    }\n",
       "</style>\n",
       "<table border=\"1\" class=\"dataframe\">\n",
       "  <thead>\n",
       "    <tr style=\"text-align: right;\">\n",
       "      <th></th>\n",
       "      <th>Gender</th>\n",
       "      <th>Age</th>\n",
       "      <th>Occupation</th>\n",
       "      <th>City_Category</th>\n",
       "      <th>Stay_In_Current_City_Years</th>\n",
       "      <th>Marital_Status</th>\n",
       "      <th>Product_Category_1</th>\n",
       "      <th>Product_Category_2</th>\n",
       "      <th>Product_Category_3</th>\n",
       "      <th>Purchase</th>\n",
       "    </tr>\n",
       "  </thead>\n",
       "  <tbody>\n",
       "    <tr>\n",
       "      <td>0</td>\n",
       "      <td>0</td>\n",
       "      <td>0</td>\n",
       "      <td>10</td>\n",
       "      <td>0</td>\n",
       "      <td>2</td>\n",
       "      <td>0</td>\n",
       "      <td>2</td>\n",
       "      <td>8</td>\n",
       "      <td>0</td>\n",
       "      <td>8370</td>\n",
       "    </tr>\n",
       "    <tr>\n",
       "      <td>1</td>\n",
       "      <td>0</td>\n",
       "      <td>0</td>\n",
       "      <td>10</td>\n",
       "      <td>0</td>\n",
       "      <td>2</td>\n",
       "      <td>0</td>\n",
       "      <td>0</td>\n",
       "      <td>4</td>\n",
       "      <td>11</td>\n",
       "      <td>15200</td>\n",
       "    </tr>\n",
       "    <tr>\n",
       "      <td>2</td>\n",
       "      <td>0</td>\n",
       "      <td>0</td>\n",
       "      <td>10</td>\n",
       "      <td>0</td>\n",
       "      <td>2</td>\n",
       "      <td>0</td>\n",
       "      <td>11</td>\n",
       "      <td>8</td>\n",
       "      <td>0</td>\n",
       "      <td>1422</td>\n",
       "    </tr>\n",
       "    <tr>\n",
       "      <td>3</td>\n",
       "      <td>0</td>\n",
       "      <td>0</td>\n",
       "      <td>10</td>\n",
       "      <td>0</td>\n",
       "      <td>2</td>\n",
       "      <td>0</td>\n",
       "      <td>11</td>\n",
       "      <td>13</td>\n",
       "      <td>0</td>\n",
       "      <td>1057</td>\n",
       "    </tr>\n",
       "    <tr>\n",
       "      <td>4</td>\n",
       "      <td>1</td>\n",
       "      <td>6</td>\n",
       "      <td>16</td>\n",
       "      <td>2</td>\n",
       "      <td>4</td>\n",
       "      <td>0</td>\n",
       "      <td>7</td>\n",
       "      <td>8</td>\n",
       "      <td>0</td>\n",
       "      <td>7969</td>\n",
       "    </tr>\n",
       "  </tbody>\n",
       "</table>\n",
       "</div>"
      ],
      "text/plain": [
       "   Gender  Age  Occupation  City_Category  Stay_In_Current_City_Years  \\\n",
       "0       0    0          10              0                           2   \n",
       "1       0    0          10              0                           2   \n",
       "2       0    0          10              0                           2   \n",
       "3       0    0          10              0                           2   \n",
       "4       1    6          16              2                           4   \n",
       "\n",
       "   Marital_Status  Product_Category_1  Product_Category_2  Product_Category_3  \\\n",
       "0               0                   2                   8                   0   \n",
       "1               0                   0                   4                  11   \n",
       "2               0                  11                   8                   0   \n",
       "3               0                  11                  13                   0   \n",
       "4               0                   7                   8                   0   \n",
       "\n",
       "   Purchase  \n",
       "0      8370  \n",
       "1     15200  \n",
       "2      1422  \n",
       "3      1057  \n",
       "4      7969  "
      ]
     },
     "execution_count": 57,
     "metadata": {},
     "output_type": "execute_result"
    },
    {
     "name": "stdout",
     "output_type": "stream",
     "text": [
      "<class 'pandas.core.frame.DataFrame'>\n",
      "RangeIndex: 550068 entries, 0 to 550067\n",
      "Data columns (total 10 columns):\n",
      "Gender                        550068 non-null int32\n",
      "Age                           550068 non-null int32\n",
      "Occupation                    550068 non-null int64\n",
      "City_Category                 550068 non-null int32\n",
      "Stay_In_Current_City_Years    550068 non-null int32\n",
      "Marital_Status                550068 non-null int64\n",
      "Product_Category_1            550068 non-null int64\n",
      "Product_Category_2            550068 non-null int64\n",
      "Product_Category_3            550068 non-null int64\n",
      "Purchase                      550068 non-null int64\n",
      "dtypes: int32(4), int64(6)\n",
      "memory usage: 33.6 MB\n"
     ]
    }
   ],
   "source": [
    "# #Function for Label encoding as Embarked is an object here.\n",
    "\n",
    "def encode_features(df_train):\n",
    "    features = ['Gender', 'Age', 'City_Category','Stay_In_Current_City_Years', 'Product_Category_1',\n",
    "       'Product_Category_2', 'Product_Category_3']\n",
    "    df_combined = df_train[features].copy()\n",
    "    for feature in features:\n",
    "        le = preprocessing.LabelEncoder()\n",
    "        le = le.fit(df_combined[feature])\n",
    "        df_train[feature] = le.transform(df_train[feature])\n",
    "        #df_test[feature] = le.transform(df_test[feature])\n",
    "    return df_train\n",
    "data_final=encode_features(data)\n",
    "\n",
    "# df_Gender = pd.get_dummies(data['Gender'])\n",
    "# df_Age = pd.get_dummies(data['Age'])\n",
    "# df_City_Category = pd.get_dummies(data['City_Category'])\n",
    "# df_Stay_In_Current_City_Years = pd.get_dummies(data['Stay_In_Current_City_Years'])\n",
    "\n",
    "# data_final = pd.concat([data, df_Gender, df_Age, df_City_Category, df_Stay_In_Current_City_Years], axis=1)\n",
    "\n",
    "data_final = data_final.drop(['User_ID','Product_ID'], axis=1)\n",
    "data.info()\n",
    "\n",
    "data_final.head()\n",
    "data_final.info()"
   ]
  },
  {
   "cell_type": "code",
   "execution_count": 58,
   "metadata": {
    "slideshow": {
     "slide_type": "skip"
    }
   },
   "outputs": [
    {
     "data": {
      "text/plain": [
       "Index(['User_ID', 'Product_ID', 'Gender', 'Age', 'Occupation', 'City_Category',\n",
       "       'Stay_In_Current_City_Years', 'Marital_Status', 'Product_Category_1',\n",
       "       'Product_Category_2', 'Product_Category_3', 'Purchase'],\n",
       "      dtype='object')"
      ]
     },
     "execution_count": 58,
     "metadata": {},
     "output_type": "execute_result"
    },
    {
     "data": {
      "text/plain": [
       "Index(['Gender', 'Age', 'Occupation', 'City_Category',\n",
       "       'Stay_In_Current_City_Years', 'Marital_Status', 'Product_Category_1',\n",
       "       'Product_Category_2', 'Product_Category_3', 'Purchase'],\n",
       "      dtype='object')"
      ]
     },
     "execution_count": 58,
     "metadata": {},
     "output_type": "execute_result"
    }
   ],
   "source": [
    "data.columns\n",
    "data_final.columns"
   ]
  },
  {
   "cell_type": "markdown",
   "metadata": {
    "slideshow": {
     "slide_type": "slide"
    }
   },
   "source": [
    "# Data Preprocessing for ML Algorithms"
   ]
  },
  {
   "cell_type": "code",
   "execution_count": 59,
   "metadata": {
    "slideshow": {
     "slide_type": "skip"
    }
   },
   "outputs": [],
   "source": [
    "ind = data_final[['Gender', 'Age', 'Occupation', 'City_Category',\n",
    "       'Stay_In_Current_City_Years', 'Marital_Status', 'Product_Category_1',\n",
    "       'Product_Category_2', 'Product_Category_3']]\n",
    "dep = data_final['Purchase']"
   ]
  },
  {
   "cell_type": "code",
   "execution_count": 60,
   "metadata": {
    "slideshow": {
     "slide_type": "skip"
    }
   },
   "outputs": [],
   "source": [
    "#spliting dataset into 70% training set and 30% test set:\n",
    "\n",
    "ind_train,ind_test,dep_train,dep_test=train_test_split(ind,dep,test_size=0.3, random_state=100)"
   ]
  },
  {
   "cell_type": "markdown",
   "metadata": {
    "slideshow": {
     "slide_type": "skip"
    }
   },
   "source": [
    "## Linear Regression"
   ]
  },
  {
   "cell_type": "code",
   "execution_count": 61,
   "metadata": {
    "slideshow": {
     "slide_type": "skip"
    }
   },
   "outputs": [
    {
     "data": {
      "text/plain": [
       "LinearRegression(copy_X=True, fit_intercept=True, n_jobs=None, normalize=False)"
      ]
     },
     "execution_count": 61,
     "metadata": {},
     "output_type": "execute_result"
    }
   ],
   "source": [
    "lm = LinearRegression()\n",
    "lm.fit(ind_train, dep_train)"
   ]
  },
  {
   "cell_type": "code",
   "execution_count": 62,
   "metadata": {
    "slideshow": {
     "slide_type": "skip"
    }
   },
   "outputs": [
    {
     "data": {
      "text/html": [
       "<div>\n",
       "<style scoped>\n",
       "    .dataframe tbody tr th:only-of-type {\n",
       "        vertical-align: middle;\n",
       "    }\n",
       "\n",
       "    .dataframe tbody tr th {\n",
       "        vertical-align: top;\n",
       "    }\n",
       "\n",
       "    .dataframe thead th {\n",
       "        text-align: right;\n",
       "    }\n",
       "</style>\n",
       "<table border=\"1\" class=\"dataframe\">\n",
       "  <thead>\n",
       "    <tr style=\"text-align: right;\">\n",
       "      <th></th>\n",
       "      <th>Actual</th>\n",
       "      <th>Predicted</th>\n",
       "    </tr>\n",
       "  </thead>\n",
       "  <tbody>\n",
       "    <tr>\n",
       "      <td>343184</td>\n",
       "      <td>3051</td>\n",
       "      <td>6582.597577</td>\n",
       "    </tr>\n",
       "    <tr>\n",
       "      <td>544675</td>\n",
       "      <td>13692</td>\n",
       "      <td>9658.963296</td>\n",
       "    </tr>\n",
       "    <tr>\n",
       "      <td>433588</td>\n",
       "      <td>8592</td>\n",
       "      <td>10581.273092</td>\n",
       "    </tr>\n",
       "    <tr>\n",
       "      <td>123193</td>\n",
       "      <td>2761</td>\n",
       "      <td>9573.338920</td>\n",
       "    </tr>\n",
       "    <tr>\n",
       "      <td>161124</td>\n",
       "      <td>15918</td>\n",
       "      <td>12050.338727</td>\n",
       "    </tr>\n",
       "  </tbody>\n",
       "</table>\n",
       "</div>"
      ],
      "text/plain": [
       "        Actual     Predicted\n",
       "343184    3051   6582.597577\n",
       "544675   13692   9658.963296\n",
       "433588    8592  10581.273092\n",
       "123193    2761   9573.338920\n",
       "161124   15918  12050.338727"
      ]
     },
     "execution_count": 62,
     "metadata": {},
     "output_type": "execute_result"
    },
    {
     "name": "stdout",
     "output_type": "stream",
     "text": [
      "MAE: 3541.030474080599\n",
      "MSE: 21502943.057353113\n",
      "RMSE: 4637.126594924179\n",
      "RSquare: 0.149799970236296\n",
      "VIF: 1.176193795568238\n",
      "14.979997023629599 %\n"
     ]
    }
   ],
   "source": [
    "#print('Intercept parameter:', lm.intercept_)\n",
    "#coeff_df = pd.DataFrame(lm.coef_, ind_train.columns, columns=['Coefficient'])\n",
    "#print(coeff_df)\n",
    "\n",
    "#Prediction with test value\n",
    "linreg_prediction=lm.predict(ind_test)\n",
    "\n",
    "df = pd.DataFrame({'Actual': dep_test, 'Predicted': linreg_prediction})\n",
    "df.head()\n",
    "\n",
    "#Accuracy\n",
    "print('MAE:', metrics.mean_absolute_error(dep_test, linreg_prediction))\n",
    "print('MSE:', metrics.mean_squared_error(dep_test, linreg_prediction))\n",
    "print('RMSE:', np.sqrt(metrics.mean_squared_error(dep_test, linreg_prediction)))\n",
    "print('RSquare:', r2_score(dep_test,linreg_prediction))\n",
    "print('VIF:', 1/(1-r2_score(dep_test,linreg_prediction)))\n",
    "\n",
    "accuracy = lm.score(ind_test,dep_test)\n",
    "print(accuracy*100,'%')"
   ]
  },
  {
   "cell_type": "code",
   "execution_count": 63,
   "metadata": {
    "slideshow": {
     "slide_type": "skip"
    }
   },
   "outputs": [
    {
     "data": {
      "text/html": [
       "<div>\n",
       "<style scoped>\n",
       "    .dataframe tbody tr th:only-of-type {\n",
       "        vertical-align: middle;\n",
       "    }\n",
       "\n",
       "    .dataframe tbody tr th {\n",
       "        vertical-align: top;\n",
       "    }\n",
       "\n",
       "    .dataframe thead th {\n",
       "        text-align: right;\n",
       "    }\n",
       "</style>\n",
       "<table border=\"1\" class=\"dataframe\">\n",
       "  <thead>\n",
       "    <tr style=\"text-align: right;\">\n",
       "      <th></th>\n",
       "      <th>Actual</th>\n",
       "      <th>Predicted</th>\n",
       "    </tr>\n",
       "  </thead>\n",
       "  <tbody>\n",
       "    <tr>\n",
       "      <td>495840</td>\n",
       "      <td>4444</td>\n",
       "      <td>7191.583688</td>\n",
       "    </tr>\n",
       "    <tr>\n",
       "      <td>366955</td>\n",
       "      <td>5385</td>\n",
       "      <td>8985.512461</td>\n",
       "    </tr>\n",
       "    <tr>\n",
       "      <td>267012</td>\n",
       "      <td>3523</td>\n",
       "      <td>8635.468197</td>\n",
       "    </tr>\n",
       "    <tr>\n",
       "      <td>516764</td>\n",
       "      <td>15667</td>\n",
       "      <td>12434.594859</td>\n",
       "    </tr>\n",
       "    <tr>\n",
       "      <td>358915</td>\n",
       "      <td>20680</td>\n",
       "      <td>11006.246890</td>\n",
       "    </tr>\n",
       "  </tbody>\n",
       "</table>\n",
       "</div>"
      ],
      "text/plain": [
       "        Actual     Predicted\n",
       "495840    4444   7191.583688\n",
       "366955    5385   8985.512461\n",
       "267012    3523   8635.468197\n",
       "516764   15667  12434.594859\n",
       "358915   20680  11006.246890"
      ]
     },
     "execution_count": 63,
     "metadata": {},
     "output_type": "execute_result"
    },
    {
     "name": "stdout",
     "output_type": "stream",
     "text": [
      "MAE: 3530.5283978178086\n",
      "MSE: 21376862.22043866\n",
      "RMSE: 4623.51189253782\n",
      "RSquare: 0.15187998586288953\n",
      "VIF: 1.179078412643539\n",
      "15.187998586288954 %\n"
     ]
    }
   ],
   "source": [
    "#Prediction with train value\n",
    "linreg_prediction=lm.predict(ind_train)\n",
    "\n",
    "df = pd.DataFrame({'Actual': dep_train, 'Predicted': linreg_prediction})\n",
    "df.head()\n",
    "\n",
    "#Accuracy\n",
    "print('MAE:', metrics.mean_absolute_error(dep_train, linreg_prediction))\n",
    "print('MSE:', metrics.mean_squared_error(dep_train, linreg_prediction))\n",
    "print('RMSE:', np.sqrt(metrics.mean_squared_error(dep_train, linreg_prediction)))\n",
    "print('RSquare:', r2_score(dep_train,linreg_prediction))\n",
    "print('VIF:', 1/(1-r2_score(dep_train,linreg_prediction)))\n",
    "\n",
    "accuracy = lm.score(ind_train,dep_train)\n",
    "print(accuracy*100,'%')"
   ]
  },
  {
   "cell_type": "markdown",
   "metadata": {
    "slideshow": {
     "slide_type": "skip"
    }
   },
   "source": [
    "# Decision Tree"
   ]
  },
  {
   "cell_type": "code",
   "execution_count": 64,
   "metadata": {
    "slideshow": {
     "slide_type": "skip"
    }
   },
   "outputs": [],
   "source": [
    "from sklearn.tree import DecisionTreeRegressor"
   ]
  },
  {
   "cell_type": "code",
   "execution_count": 65,
   "metadata": {
    "slideshow": {
     "slide_type": "skip"
    }
   },
   "outputs": [
    {
     "data": {
      "text/plain": [
       "DecisionTreeRegressor(criterion='mse', max_depth=None, max_features=None,\n",
       "                      max_leaf_nodes=None, min_impurity_decrease=0.0,\n",
       "                      min_impurity_split=None, min_samples_leaf=1,\n",
       "                      min_samples_split=2, min_weight_fraction_leaf=0.0,\n",
       "                      presort=False, random_state=1, splitter='best')"
      ]
     },
     "execution_count": 65,
     "metadata": {},
     "output_type": "execute_result"
    }
   ],
   "source": [
    "dt=DecisionTreeRegressor(random_state=1)\n",
    "dt.fit(ind_train, dep_train)"
   ]
  },
  {
   "cell_type": "code",
   "execution_count": 66,
   "metadata": {
    "slideshow": {
     "slide_type": "skip"
    }
   },
   "outputs": [
    {
     "data": {
      "text/html": [
       "<div>\n",
       "<style scoped>\n",
       "    .dataframe tbody tr th:only-of-type {\n",
       "        vertical-align: middle;\n",
       "    }\n",
       "\n",
       "    .dataframe tbody tr th {\n",
       "        vertical-align: top;\n",
       "    }\n",
       "\n",
       "    .dataframe thead th {\n",
       "        text-align: right;\n",
       "    }\n",
       "</style>\n",
       "<table border=\"1\" class=\"dataframe\">\n",
       "  <thead>\n",
       "    <tr style=\"text-align: right;\">\n",
       "      <th></th>\n",
       "      <th>Actual</th>\n",
       "      <th>Predicted</th>\n",
       "    </tr>\n",
       "  </thead>\n",
       "  <tbody>\n",
       "    <tr>\n",
       "      <td>343184</td>\n",
       "      <td>3051</td>\n",
       "      <td>4412.909091</td>\n",
       "    </tr>\n",
       "    <tr>\n",
       "      <td>544675</td>\n",
       "      <td>13692</td>\n",
       "      <td>13035.000000</td>\n",
       "    </tr>\n",
       "    <tr>\n",
       "      <td>433588</td>\n",
       "      <td>8592</td>\n",
       "      <td>8715.000000</td>\n",
       "    </tr>\n",
       "    <tr>\n",
       "      <td>123193</td>\n",
       "      <td>2761</td>\n",
       "      <td>2174.444444</td>\n",
       "    </tr>\n",
       "    <tr>\n",
       "      <td>161124</td>\n",
       "      <td>15918</td>\n",
       "      <td>11913.166667</td>\n",
       "    </tr>\n",
       "  </tbody>\n",
       "</table>\n",
       "</div>"
      ],
      "text/plain": [
       "        Actual     Predicted\n",
       "343184    3051   4412.909091\n",
       "544675   13692  13035.000000\n",
       "433588    8592   8715.000000\n",
       "123193    2761   2174.444444\n",
       "161124   15918  11913.166667"
      ]
     },
     "execution_count": 66,
     "metadata": {},
     "output_type": "execute_result"
    },
    {
     "name": "stdout",
     "output_type": "stream",
     "text": [
      "MAE: 2373.712010770065\n",
      "MSE: 11342843.143108979\n",
      "RMSE: 3367.9137671723392\n",
      "RSquare: 0.55151787584823\n",
      "VIF: 2.229743274364246\n",
      "55.151787584823 %\n"
     ]
    }
   ],
   "source": [
    "#Prediction with test value\n",
    "dt_prediction=dt.predict(ind_test)\n",
    "\n",
    "df = pd.DataFrame({'Actual': dep_test, 'Predicted': dt_prediction})\n",
    "df.head()\n",
    "\n",
    "#Accuracy\n",
    "print('MAE:', metrics.mean_absolute_error(dep_test, dt_prediction))\n",
    "print('MSE:', metrics.mean_squared_error(dep_test, dt_prediction))\n",
    "print('RMSE:', np.sqrt(metrics.mean_squared_error(dep_test, dt_prediction)))\n",
    "print('RSquare:', r2_score(dep_test,dt_prediction))\n",
    "print('VIF:', 1/(1-r2_score(dep_test,dt_prediction)))\n",
    "\n",
    "accuracy = dt.score(ind_test,dep_test)\n",
    "print(accuracy*100,'%')"
   ]
  },
  {
   "cell_type": "code",
   "execution_count": 67,
   "metadata": {
    "slideshow": {
     "slide_type": "skip"
    }
   },
   "outputs": [
    {
     "data": {
      "text/html": [
       "<div>\n",
       "<style scoped>\n",
       "    .dataframe tbody tr th:only-of-type {\n",
       "        vertical-align: middle;\n",
       "    }\n",
       "\n",
       "    .dataframe tbody tr th {\n",
       "        vertical-align: top;\n",
       "    }\n",
       "\n",
       "    .dataframe thead th {\n",
       "        text-align: right;\n",
       "    }\n",
       "</style>\n",
       "<table border=\"1\" class=\"dataframe\">\n",
       "  <thead>\n",
       "    <tr style=\"text-align: right;\">\n",
       "      <th></th>\n",
       "      <th>Actual</th>\n",
       "      <th>Predicted</th>\n",
       "    </tr>\n",
       "  </thead>\n",
       "  <tbody>\n",
       "    <tr>\n",
       "      <td>495840</td>\n",
       "      <td>4444</td>\n",
       "      <td>5790.851852</td>\n",
       "    </tr>\n",
       "    <tr>\n",
       "      <td>366955</td>\n",
       "      <td>5385</td>\n",
       "      <td>5385.000000</td>\n",
       "    </tr>\n",
       "    <tr>\n",
       "      <td>267012</td>\n",
       "      <td>3523</td>\n",
       "      <td>5773.000000</td>\n",
       "    </tr>\n",
       "    <tr>\n",
       "      <td>516764</td>\n",
       "      <td>15667</td>\n",
       "      <td>16968.800000</td>\n",
       "    </tr>\n",
       "    <tr>\n",
       "      <td>358915</td>\n",
       "      <td>20680</td>\n",
       "      <td>20675.000000</td>\n",
       "    </tr>\n",
       "  </tbody>\n",
       "</table>\n",
       "</div>"
      ],
      "text/plain": [
       "        Actual     Predicted\n",
       "495840    4444   5790.851852\n",
       "366955    5385   5385.000000\n",
       "267012    3523   5773.000000\n",
       "516764   15667  16968.800000\n",
       "358915   20680  20675.000000"
      ]
     },
     "execution_count": 67,
     "metadata": {},
     "output_type": "execute_result"
    },
    {
     "name": "stdout",
     "output_type": "stream",
     "text": [
      "MAE: 1455.6282456161857\n",
      "MSE: 4797340.289482876\n",
      "RMSE: 2190.2831528099\n",
      "RSquare: 0.8096670936931709\n",
      "VIF: 5.253952242960734\n",
      "80.96670936931709 %\n"
     ]
    }
   ],
   "source": [
    "#Prediction with train value\n",
    "dt_prediction=dt.predict(ind_train)\n",
    "\n",
    "df = pd.DataFrame({'Actual': dep_train, 'Predicted': dt_prediction})\n",
    "df.head()\n",
    "\n",
    "#Accuracy\n",
    "print('MAE:', metrics.mean_absolute_error(dep_train, dt_prediction))\n",
    "print('MSE:', metrics.mean_squared_error(dep_train, dt_prediction))\n",
    "print('RMSE:', np.sqrt(metrics.mean_squared_error(dep_train, dt_prediction)))\n",
    "print('RSquare:', r2_score(dep_train,dt_prediction))\n",
    "print('VIF:', 1/(1-r2_score(dep_train,dt_prediction)))\n",
    "\n",
    "accuracy = dt.score(ind_train,dep_train)\n",
    "print(accuracy*100,'%')"
   ]
  },
  {
   "cell_type": "markdown",
   "metadata": {
    "slideshow": {
     "slide_type": "skip"
    }
   },
   "source": [
    "# Random Forest"
   ]
  },
  {
   "cell_type": "code",
   "execution_count": 68,
   "metadata": {
    "slideshow": {
     "slide_type": "skip"
    }
   },
   "outputs": [
    {
     "name": "stderr",
     "output_type": "stream",
     "text": [
      "C:\\Users\\Hp\\Anaconda3\\lib\\site-packages\\sklearn\\ensemble\\forest.py:245: FutureWarning: The default value of n_estimators will change from 10 in version 0.20 to 100 in 0.22.\n",
      "  \"10 in version 0.20 to 100 in 0.22.\", FutureWarning)\n"
     ]
    },
    {
     "data": {
      "text/plain": [
       "RandomForestRegressor(bootstrap=True, criterion='mse', max_depth=None,\n",
       "                      max_features='auto', max_leaf_nodes=None,\n",
       "                      min_impurity_decrease=0.0, min_impurity_split=None,\n",
       "                      min_samples_leaf=1, min_samples_split=2,\n",
       "                      min_weight_fraction_leaf=0.0, n_estimators=10,\n",
       "                      n_jobs=None, oob_score=False, random_state=None,\n",
       "                      verbose=0, warm_start=False)"
      ]
     },
     "execution_count": 68,
     "metadata": {},
     "output_type": "execute_result"
    }
   ],
   "source": [
    "rf=RandomForestRegressor()\n",
    "\n",
    "#fit the best algorithm \n",
    "rf.fit(ind_train,dep_train)"
   ]
  },
  {
   "cell_type": "code",
   "execution_count": 69,
   "metadata": {
    "slideshow": {
     "slide_type": "skip"
    }
   },
   "outputs": [
    {
     "data": {
      "text/html": [
       "<div>\n",
       "<style scoped>\n",
       "    .dataframe tbody tr th:only-of-type {\n",
       "        vertical-align: middle;\n",
       "    }\n",
       "\n",
       "    .dataframe tbody tr th {\n",
       "        vertical-align: top;\n",
       "    }\n",
       "\n",
       "    .dataframe thead th {\n",
       "        text-align: right;\n",
       "    }\n",
       "</style>\n",
       "<table border=\"1\" class=\"dataframe\">\n",
       "  <thead>\n",
       "    <tr style=\"text-align: right;\">\n",
       "      <th></th>\n",
       "      <th>Actual</th>\n",
       "      <th>Predicted</th>\n",
       "    </tr>\n",
       "  </thead>\n",
       "  <tbody>\n",
       "    <tr>\n",
       "      <td>343184</td>\n",
       "      <td>3051</td>\n",
       "      <td>4453.496356</td>\n",
       "    </tr>\n",
       "    <tr>\n",
       "      <td>544675</td>\n",
       "      <td>13692</td>\n",
       "      <td>13070.741667</td>\n",
       "    </tr>\n",
       "    <tr>\n",
       "      <td>433588</td>\n",
       "      <td>8592</td>\n",
       "      <td>8238.500000</td>\n",
       "    </tr>\n",
       "    <tr>\n",
       "      <td>123193</td>\n",
       "      <td>2761</td>\n",
       "      <td>2184.962832</td>\n",
       "    </tr>\n",
       "    <tr>\n",
       "      <td>161124</td>\n",
       "      <td>15918</td>\n",
       "      <td>12194.229643</td>\n",
       "    </tr>\n",
       "  </tbody>\n",
       "</table>\n",
       "</div>"
      ],
      "text/plain": [
       "        Actual     Predicted\n",
       "343184    3051   4453.496356\n",
       "544675   13692  13070.741667\n",
       "433588    8592   8238.500000\n",
       "123193    2761   2184.962832\n",
       "161124   15918  12194.229643"
      ]
     },
     "execution_count": 69,
     "metadata": {},
     "output_type": "execute_result"
    },
    {
     "name": "stdout",
     "output_type": "stream",
     "text": [
      "MAE: 2252.7384918299713\n",
      "MSE: 9664027.485934077\n",
      "RMSE: 3108.701897244906\n",
      "RSquare: 0.6178961905696554\n",
      "VIF: 2.6170898465808006\n",
      "61.78961905696554 %\n"
     ]
    }
   ],
   "source": [
    "#Prediction with test value\n",
    "rf_prediction=rf.predict(ind_test)\n",
    "\n",
    "df = pd.DataFrame({'Actual': dep_test, 'Predicted': rf_prediction})\n",
    "df.head()\n",
    "\n",
    "#Accuracy\n",
    "print('MAE:', metrics.mean_absolute_error(dep_test, rf_prediction))\n",
    "print('MSE:', metrics.mean_squared_error(dep_test, rf_prediction))\n",
    "print('RMSE:', np.sqrt(metrics.mean_squared_error(dep_test, rf_prediction)))\n",
    "print('RSquare:', r2_score(dep_test,rf_prediction))\n",
    "print('VIF:', 1/(1-r2_score(dep_test,rf_prediction)))\n",
    "\n",
    "accuracy = rf.score(ind_test,dep_test)\n",
    "print(accuracy*100,'%')"
   ]
  },
  {
   "cell_type": "code",
   "execution_count": 70,
   "metadata": {
    "slideshow": {
     "slide_type": "skip"
    }
   },
   "outputs": [
    {
     "data": {
      "text/html": [
       "<div>\n",
       "<style scoped>\n",
       "    .dataframe tbody tr th:only-of-type {\n",
       "        vertical-align: middle;\n",
       "    }\n",
       "\n",
       "    .dataframe tbody tr th {\n",
       "        vertical-align: top;\n",
       "    }\n",
       "\n",
       "    .dataframe thead th {\n",
       "        text-align: right;\n",
       "    }\n",
       "</style>\n",
       "<table border=\"1\" class=\"dataframe\">\n",
       "  <thead>\n",
       "    <tr style=\"text-align: right;\">\n",
       "      <th></th>\n",
       "      <th>Actual</th>\n",
       "      <th>Predicted</th>\n",
       "    </tr>\n",
       "  </thead>\n",
       "  <tbody>\n",
       "    <tr>\n",
       "      <td>495840</td>\n",
       "      <td>4444</td>\n",
       "      <td>5803.060548</td>\n",
       "    </tr>\n",
       "    <tr>\n",
       "      <td>366955</td>\n",
       "      <td>5385</td>\n",
       "      <td>5346.884444</td>\n",
       "    </tr>\n",
       "    <tr>\n",
       "      <td>267012</td>\n",
       "      <td>3523</td>\n",
       "      <td>5771.389816</td>\n",
       "    </tr>\n",
       "    <tr>\n",
       "      <td>516764</td>\n",
       "      <td>15667</td>\n",
       "      <td>17389.810476</td>\n",
       "    </tr>\n",
       "    <tr>\n",
       "      <td>358915</td>\n",
       "      <td>20680</td>\n",
       "      <td>20675.733333</td>\n",
       "    </tr>\n",
       "  </tbody>\n",
       "</table>\n",
       "</div>"
      ],
      "text/plain": [
       "        Actual     Predicted\n",
       "495840    4444   5803.060548\n",
       "366955    5385   5346.884444\n",
       "267012    3523   5771.389816\n",
       "516764   15667  17389.810476\n",
       "358915   20680  20675.733333"
      ]
     },
     "execution_count": 70,
     "metadata": {},
     "output_type": "execute_result"
    },
    {
     "name": "stdout",
     "output_type": "stream",
     "text": [
      "MAE: 1649.3242225511672\n",
      "MSE: 5300173.508981159\n",
      "RMSE: 2302.2105700784973\n",
      "RSquare: 0.7897173502354174\n",
      "VIF: 4.75550408518976\n",
      "78.97173502354174 %\n"
     ]
    }
   ],
   "source": [
    "#Prediction with train value\n",
    "rf_prediction=rf.predict(ind_train)\n",
    "\n",
    "df = pd.DataFrame({'Actual': dep_train, 'Predicted': rf_prediction})\n",
    "df.head()\n",
    "\n",
    "#Accuracy\n",
    "print('MAE:', metrics.mean_absolute_error(dep_train, rf_prediction))\n",
    "print('MSE:', metrics.mean_squared_error(dep_train, rf_prediction))\n",
    "print('RMSE:', np.sqrt(metrics.mean_squared_error(dep_train, rf_prediction)))\n",
    "print('RSquare:', r2_score(dep_train,rf_prediction))\n",
    "print('VIF:', 1/(1-r2_score(dep_train,rf_prediction)))\n",
    "\n",
    "accuracy = rf.score(ind_train,dep_train)\n",
    "print(accuracy*100,'%')"
   ]
  },
  {
   "cell_type": "markdown",
   "metadata": {
    "slideshow": {
     "slide_type": "skip"
    }
   },
   "source": [
    "# XGBoost"
   ]
  },
  {
   "cell_type": "code",
   "execution_count": 71,
   "metadata": {
    "slideshow": {
     "slide_type": "skip"
    }
   },
   "outputs": [],
   "source": [
    "import xgboost as xgb"
   ]
  },
  {
   "cell_type": "code",
   "execution_count": 72,
   "metadata": {
    "slideshow": {
     "slide_type": "skip"
    }
   },
   "outputs": [
    {
     "name": "stderr",
     "output_type": "stream",
     "text": [
      "C:\\Users\\Hp\\Anaconda3\\lib\\site-packages\\xgboost\\core.py:587: FutureWarning: Series.base is deprecated and will be removed in a future version\n",
      "  if getattr(data, 'base', None) is not None and \\\n"
     ]
    },
    {
     "name": "stdout",
     "output_type": "stream",
     "text": [
      "[02:56:10] WARNING: C:/Jenkins/workspace/xgboost-win64_release_0.90/src/objective/regression_obj.cu:152: reg:linear is now deprecated in favor of reg:squarederror.\n"
     ]
    },
    {
     "data": {
      "text/plain": [
       "XGBRegressor(alpha=10, base_score=0.5, booster='gbtree', colsample_bylevel=1,\n",
       "             colsample_bynode=1, colsample_bytree=0.3, gamma=0,\n",
       "             importance_type='gain', learning_rate=0.1, max_delta_step=0,\n",
       "             max_depth=5, min_child_weight=1, missing=None, n_estimators=10,\n",
       "             n_jobs=1, nthread=None, objective='reg:linear', random_state=0,\n",
       "             reg_alpha=0, reg_lambda=1, scale_pos_weight=1, seed=None,\n",
       "             silent=None, subsample=1, verbosity=1)"
      ]
     },
     "execution_count": 72,
     "metadata": {},
     "output_type": "execute_result"
    }
   ],
   "source": [
    "xg=xgb.XGBRegressor(objective ='reg:linear', colsample_bytree = 0.3, learning_rate = 0.1,\n",
    "                max_depth = 5, alpha = 10, n_estimators = 10)\n",
    "#fit the best algorithm \n",
    "xg.fit(ind_train,dep_train)"
   ]
  },
  {
   "cell_type": "code",
   "execution_count": 73,
   "metadata": {
    "slideshow": {
     "slide_type": "skip"
    }
   },
   "outputs": [
    {
     "data": {
      "text/html": [
       "<div>\n",
       "<style scoped>\n",
       "    .dataframe tbody tr th:only-of-type {\n",
       "        vertical-align: middle;\n",
       "    }\n",
       "\n",
       "    .dataframe tbody tr th {\n",
       "        vertical-align: top;\n",
       "    }\n",
       "\n",
       "    .dataframe thead th {\n",
       "        text-align: right;\n",
       "    }\n",
       "</style>\n",
       "<table border=\"1\" class=\"dataframe\">\n",
       "  <thead>\n",
       "    <tr style=\"text-align: right;\">\n",
       "      <th></th>\n",
       "      <th>Actual</th>\n",
       "      <th>Predicted</th>\n",
       "    </tr>\n",
       "  </thead>\n",
       "  <tbody>\n",
       "    <tr>\n",
       "      <td>343184</td>\n",
       "      <td>3051</td>\n",
       "      <td>4453.496356</td>\n",
       "    </tr>\n",
       "    <tr>\n",
       "      <td>544675</td>\n",
       "      <td>13692</td>\n",
       "      <td>13070.741667</td>\n",
       "    </tr>\n",
       "    <tr>\n",
       "      <td>433588</td>\n",
       "      <td>8592</td>\n",
       "      <td>8238.500000</td>\n",
       "    </tr>\n",
       "    <tr>\n",
       "      <td>123193</td>\n",
       "      <td>2761</td>\n",
       "      <td>2184.962832</td>\n",
       "    </tr>\n",
       "    <tr>\n",
       "      <td>161124</td>\n",
       "      <td>15918</td>\n",
       "      <td>12194.229643</td>\n",
       "    </tr>\n",
       "  </tbody>\n",
       "</table>\n",
       "</div>"
      ],
      "text/plain": [
       "        Actual     Predicted\n",
       "343184    3051   4453.496356\n",
       "544675   13692  13070.741667\n",
       "433588    8592   8238.500000\n",
       "123193    2761   2184.962832\n",
       "161124   15918  12194.229643"
      ]
     },
     "execution_count": 73,
     "metadata": {},
     "output_type": "execute_result"
    },
    {
     "name": "stdout",
     "output_type": "stream",
     "text": [
      "MAE: 2252.7384918299713\n",
      "MSE: 9664027.485934077\n",
      "RMSE: 3108.701897244906\n",
      "RSquare: 0.6178961905696554\n",
      "VIF: 2.6170898465808006\n",
      "-15.25089108814408 %\n"
     ]
    }
   ],
   "source": [
    "#Prediction with test value\n",
    "xg_prediction=rf.predict(ind_test)\n",
    "\n",
    "df = pd.DataFrame({'Actual': dep_test, 'Predicted': xg_prediction})\n",
    "df.head()\n",
    "\n",
    "#Accuracy\n",
    "print('MAE:', metrics.mean_absolute_error(dep_test, xg_prediction))\n",
    "print('MSE:', metrics.mean_squared_error(dep_test, xg_prediction))\n",
    "print('RMSE:', np.sqrt(metrics.mean_squared_error(dep_test, xg_prediction)))\n",
    "print('RSquare:', r2_score(dep_test,xg_prediction))\n",
    "print('VIF:', 1/(1-r2_score(dep_test,xg_prediction)))\n",
    "\n",
    "accuracy = xg.score(ind_test,dep_test)\n",
    "print(accuracy*100,'%')"
   ]
  },
  {
   "cell_type": "code",
   "execution_count": 74,
   "metadata": {
    "slideshow": {
     "slide_type": "skip"
    }
   },
   "outputs": [
    {
     "data": {
      "text/html": [
       "<div>\n",
       "<style scoped>\n",
       "    .dataframe tbody tr th:only-of-type {\n",
       "        vertical-align: middle;\n",
       "    }\n",
       "\n",
       "    .dataframe tbody tr th {\n",
       "        vertical-align: top;\n",
       "    }\n",
       "\n",
       "    .dataframe thead th {\n",
       "        text-align: right;\n",
       "    }\n",
       "</style>\n",
       "<table border=\"1\" class=\"dataframe\">\n",
       "  <thead>\n",
       "    <tr style=\"text-align: right;\">\n",
       "      <th></th>\n",
       "      <th>Actual</th>\n",
       "      <th>Predicted</th>\n",
       "    </tr>\n",
       "  </thead>\n",
       "  <tbody>\n",
       "    <tr>\n",
       "      <td>495840</td>\n",
       "      <td>4444</td>\n",
       "      <td>4822.973145</td>\n",
       "    </tr>\n",
       "    <tr>\n",
       "      <td>366955</td>\n",
       "      <td>5385</td>\n",
       "      <td>5347.726074</td>\n",
       "    </tr>\n",
       "    <tr>\n",
       "      <td>267012</td>\n",
       "      <td>3523</td>\n",
       "      <td>5342.529785</td>\n",
       "    </tr>\n",
       "    <tr>\n",
       "      <td>516764</td>\n",
       "      <td>15667</td>\n",
       "      <td>7493.980469</td>\n",
       "    </tr>\n",
       "    <tr>\n",
       "      <td>358915</td>\n",
       "      <td>20680</td>\n",
       "      <td>8388.821289</td>\n",
       "    </tr>\n",
       "  </tbody>\n",
       "</table>\n",
       "</div>"
      ],
      "text/plain": [
       "        Actual    Predicted\n",
       "495840    4444  4822.973145\n",
       "366955    5385  5347.726074\n",
       "267012    3523  5342.529785\n",
       "516764   15667  7493.980469\n",
       "358915   20680  8388.821289"
      ]
     },
     "execution_count": 74,
     "metadata": {},
     "output_type": "execute_result"
    },
    {
     "name": "stdout",
     "output_type": "stream",
     "text": [
      "MAE: 4073.2417484321263\n",
      "MSE: 29210550.00973066\n",
      "RMSE: 5404.678529730576\n",
      "RSquare: -0.15891901401314112\n",
      "VIF: 0.8628730635259565\n",
      "-15.891901401314112 %\n"
     ]
    }
   ],
   "source": [
    "#Prediction with train value\n",
    "xg_prediction=xg.predict(ind_train)\n",
    "\n",
    "df = pd.DataFrame({'Actual': dep_train, 'Predicted': xg_prediction})\n",
    "df.head()\n",
    "\n",
    "#Accuracy\n",
    "print('MAE:', metrics.mean_absolute_error(dep_train, xg_prediction))\n",
    "print('MSE:', metrics.mean_squared_error(dep_train, xg_prediction))\n",
    "print('RMSE:', np.sqrt(metrics.mean_squared_error(dep_train, xg_prediction)))\n",
    "print('RSquare:', r2_score(dep_train,xg_prediction))\n",
    "print('VIF:', 1/(1-r2_score(dep_train,xg_prediction)))\n",
    "\n",
    "accuracy = xg.score(ind_train,dep_train)\n",
    "print(accuracy*100,'%')"
   ]
  },
  {
   "cell_type": "markdown",
   "metadata": {
    "slideshow": {
     "slide_type": "skip"
    }
   },
   "source": [
    "# Ridge"
   ]
  },
  {
   "cell_type": "code",
   "execution_count": 75,
   "metadata": {
    "slideshow": {
     "slide_type": "skip"
    }
   },
   "outputs": [],
   "source": [
    "from sklearn.linear_model import Ridge"
   ]
  },
  {
   "cell_type": "code",
   "execution_count": 76,
   "metadata": {
    "slideshow": {
     "slide_type": "skip"
    }
   },
   "outputs": [
    {
     "data": {
      "text/plain": [
       "Ridge(alpha=1.0, copy_X=True, fit_intercept=True, max_iter=None,\n",
       "      normalize=False, random_state=None, solver='auto', tol=0.001)"
      ]
     },
     "execution_count": 76,
     "metadata": {},
     "output_type": "execute_result"
    }
   ],
   "source": [
    "ridge = Ridge()\n",
    "ridge.fit(ind_train,dep_train)"
   ]
  },
  {
   "cell_type": "code",
   "execution_count": 77,
   "metadata": {
    "slideshow": {
     "slide_type": "skip"
    }
   },
   "outputs": [
    {
     "data": {
      "text/html": [
       "<div>\n",
       "<style scoped>\n",
       "    .dataframe tbody tr th:only-of-type {\n",
       "        vertical-align: middle;\n",
       "    }\n",
       "\n",
       "    .dataframe tbody tr th {\n",
       "        vertical-align: top;\n",
       "    }\n",
       "\n",
       "    .dataframe thead th {\n",
       "        text-align: right;\n",
       "    }\n",
       "</style>\n",
       "<table border=\"1\" class=\"dataframe\">\n",
       "  <thead>\n",
       "    <tr style=\"text-align: right;\">\n",
       "      <th></th>\n",
       "      <th>Actual</th>\n",
       "      <th>Predicted</th>\n",
       "    </tr>\n",
       "  </thead>\n",
       "  <tbody>\n",
       "    <tr>\n",
       "      <td>343184</td>\n",
       "      <td>3051</td>\n",
       "      <td>6582.597554</td>\n",
       "    </tr>\n",
       "    <tr>\n",
       "      <td>544675</td>\n",
       "      <td>13692</td>\n",
       "      <td>9658.970115</td>\n",
       "    </tr>\n",
       "    <tr>\n",
       "      <td>433588</td>\n",
       "      <td>8592</td>\n",
       "      <td>10581.277627</td>\n",
       "    </tr>\n",
       "    <tr>\n",
       "      <td>123193</td>\n",
       "      <td>2761</td>\n",
       "      <td>9573.336091</td>\n",
       "    </tr>\n",
       "    <tr>\n",
       "      <td>161124</td>\n",
       "      <td>15918</td>\n",
       "      <td>12050.339596</td>\n",
       "    </tr>\n",
       "  </tbody>\n",
       "</table>\n",
       "</div>"
      ],
      "text/plain": [
       "        Actual     Predicted\n",
       "343184    3051   6582.597554\n",
       "544675   13692   9658.970115\n",
       "433588    8592  10581.277627\n",
       "123193    2761   9573.336091\n",
       "161124   15918  12050.339596"
      ]
     },
     "execution_count": 77,
     "metadata": {},
     "output_type": "execute_result"
    },
    {
     "name": "stdout",
     "output_type": "stream",
     "text": [
      "MAE: 3541.0303829025697\n",
      "MSE: 21502943.13289537\n",
      "RMSE: 4637.126603069552\n",
      "RSquare: 0.14979996724944777\n",
      "VIF: 1.1761937914361371\n",
      "14.979996724944778 %\n"
     ]
    }
   ],
   "source": [
    "#Prediction with test value\n",
    "ridge_prediction=ridge.predict(ind_test)\n",
    "\n",
    "df = pd.DataFrame({'Actual': dep_test, 'Predicted': ridge_prediction})\n",
    "df.head()\n",
    "\n",
    "#Accuracy\n",
    "print('MAE:', metrics.mean_absolute_error(dep_test, ridge_prediction))\n",
    "print('MSE:', metrics.mean_squared_error(dep_test, ridge_prediction))\n",
    "print('RMSE:', np.sqrt(metrics.mean_squared_error(dep_test, ridge_prediction)))\n",
    "print('RSquare:', r2_score(dep_test,ridge_prediction))\n",
    "print('VIF:', 1/(1-r2_score(dep_test,ridge_prediction)))\n",
    "\n",
    "accuracy = ridge.score(ind_test,dep_test)\n",
    "print(accuracy*100,'%')"
   ]
  },
  {
   "cell_type": "code",
   "execution_count": 78,
   "metadata": {
    "slideshow": {
     "slide_type": "skip"
    }
   },
   "outputs": [
    {
     "data": {
      "text/html": [
       "<div>\n",
       "<style scoped>\n",
       "    .dataframe tbody tr th:only-of-type {\n",
       "        vertical-align: middle;\n",
       "    }\n",
       "\n",
       "    .dataframe tbody tr th {\n",
       "        vertical-align: top;\n",
       "    }\n",
       "\n",
       "    .dataframe thead th {\n",
       "        text-align: right;\n",
       "    }\n",
       "</style>\n",
       "<table border=\"1\" class=\"dataframe\">\n",
       "  <thead>\n",
       "    <tr style=\"text-align: right;\">\n",
       "      <th></th>\n",
       "      <th>Actual</th>\n",
       "      <th>Predicted</th>\n",
       "    </tr>\n",
       "  </thead>\n",
       "  <tbody>\n",
       "    <tr>\n",
       "      <td>495840</td>\n",
       "      <td>4444</td>\n",
       "      <td>7191.581531</td>\n",
       "    </tr>\n",
       "    <tr>\n",
       "      <td>366955</td>\n",
       "      <td>5385</td>\n",
       "      <td>8985.509907</td>\n",
       "    </tr>\n",
       "    <tr>\n",
       "      <td>267012</td>\n",
       "      <td>3523</td>\n",
       "      <td>8635.468201</td>\n",
       "    </tr>\n",
       "    <tr>\n",
       "      <td>516764</td>\n",
       "      <td>15667</td>\n",
       "      <td>12434.593578</td>\n",
       "    </tr>\n",
       "    <tr>\n",
       "      <td>358915</td>\n",
       "      <td>20680</td>\n",
       "      <td>11006.244338</td>\n",
       "    </tr>\n",
       "  </tbody>\n",
       "</table>\n",
       "</div>"
      ],
      "text/plain": [
       "        Actual     Predicted\n",
       "495840    4444   7191.581531\n",
       "366955    5385   8985.509907\n",
       "267012    3523   8635.468201\n",
       "516764   15667  12434.593578\n",
       "358915   20680  11006.244338"
      ]
     },
     "execution_count": 78,
     "metadata": {},
     "output_type": "execute_result"
    },
    {
     "name": "stdout",
     "output_type": "stream",
     "text": [
      "MAE: 3530.528300912711\n",
      "MSE: 21376862.220447924\n",
      "RMSE: 4623.511892538822\n",
      "RSquare: 0.15187998586252194\n",
      "VIF: 1.1790784126430278\n",
      "15.187998586252194 %\n"
     ]
    }
   ],
   "source": [
    "#Prediction with train value\n",
    "ridge_prediction=ridge.predict(ind_train)\n",
    "\n",
    "df = pd.DataFrame({'Actual': dep_train, 'Predicted': ridge_prediction})\n",
    "df.head()\n",
    "\n",
    "#Accuracy\n",
    "print('MAE:', metrics.mean_absolute_error(dep_train, ridge_prediction))\n",
    "print('MSE:', metrics.mean_squared_error(dep_train, ridge_prediction))\n",
    "print('RMSE:', np.sqrt(metrics.mean_squared_error(dep_train, ridge_prediction)))\n",
    "print('RSquare:', r2_score(dep_train,ridge_prediction))\n",
    "print('VIF:', 1/(1-r2_score(dep_train,ridge_prediction)))\n",
    "\n",
    "accuracy = ridge.score(ind_train,dep_train)\n",
    "print(accuracy*100,'%')"
   ]
  },
  {
   "cell_type": "markdown",
   "metadata": {
    "slideshow": {
     "slide_type": "skip"
    }
   },
   "source": [
    "# Lasso"
   ]
  },
  {
   "cell_type": "code",
   "execution_count": 79,
   "metadata": {
    "slideshow": {
     "slide_type": "skip"
    }
   },
   "outputs": [
    {
     "data": {
      "text/plain": [
       "Lasso(alpha=1.0, copy_X=True, fit_intercept=True, max_iter=1000,\n",
       "      normalize=False, positive=False, precompute=False, random_state=None,\n",
       "      selection='cyclic', tol=0.0001, warm_start=False)"
      ]
     },
     "execution_count": 79,
     "metadata": {},
     "output_type": "execute_result"
    }
   ],
   "source": [
    "from sklearn.linear_model import Lasso\n",
    "\n",
    "lasso = Lasso()\n",
    "lasso.fit(ind_train,dep_train)"
   ]
  },
  {
   "cell_type": "code",
   "execution_count": 80,
   "metadata": {
    "slideshow": {
     "slide_type": "skip"
    }
   },
   "outputs": [
    {
     "data": {
      "text/html": [
       "<div>\n",
       "<style scoped>\n",
       "    .dataframe tbody tr th:only-of-type {\n",
       "        vertical-align: middle;\n",
       "    }\n",
       "\n",
       "    .dataframe tbody tr th {\n",
       "        vertical-align: top;\n",
       "    }\n",
       "\n",
       "    .dataframe thead th {\n",
       "        text-align: right;\n",
       "    }\n",
       "</style>\n",
       "<table border=\"1\" class=\"dataframe\">\n",
       "  <thead>\n",
       "    <tr style=\"text-align: right;\">\n",
       "      <th></th>\n",
       "      <th>Actual</th>\n",
       "      <th>Predicted</th>\n",
       "    </tr>\n",
       "  </thead>\n",
       "  <tbody>\n",
       "    <tr>\n",
       "      <td>343184</td>\n",
       "      <td>3051</td>\n",
       "      <td>6585.715817</td>\n",
       "    </tr>\n",
       "    <tr>\n",
       "      <td>544675</td>\n",
       "      <td>13692</td>\n",
       "      <td>9665.656245</td>\n",
       "    </tr>\n",
       "    <tr>\n",
       "      <td>433588</td>\n",
       "      <td>8592</td>\n",
       "      <td>10584.261693</td>\n",
       "    </tr>\n",
       "    <tr>\n",
       "      <td>123193</td>\n",
       "      <td>2761</td>\n",
       "      <td>9571.267978</td>\n",
       "    </tr>\n",
       "    <tr>\n",
       "      <td>161124</td>\n",
       "      <td>15918</td>\n",
       "      <td>12054.523616</td>\n",
       "    </tr>\n",
       "  </tbody>\n",
       "</table>\n",
       "</div>"
      ],
      "text/plain": [
       "        Actual     Predicted\n",
       "343184    3051   6585.715817\n",
       "544675   13692   9665.656245\n",
       "433588    8592  10584.261693\n",
       "123193    2761   9571.267978\n",
       "161124   15918  12054.523616"
      ]
     },
     "execution_count": 80,
     "metadata": {},
     "output_type": "execute_result"
    },
    {
     "name": "stdout",
     "output_type": "stream",
     "text": [
      "MAE: 3540.9288781619075\n",
      "MSE: 21502913.95478681\n",
      "RMSE: 4637.123456927453\n",
      "RSquare: 0.1498011209161202\n",
      "VIF: 1.1761953874575044\n",
      "14.98011209161202 %\n"
     ]
    }
   ],
   "source": [
    "#Prediction with test value\n",
    "lasso_prediction=lasso.predict(ind_test)\n",
    "\n",
    "df = pd.DataFrame({'Actual': dep_test, 'Predicted': lasso_prediction})\n",
    "df.head()\n",
    "\n",
    "#Accuracy\n",
    "print('MAE:', metrics.mean_absolute_error(dep_test, lasso_prediction))\n",
    "print('MSE:', metrics.mean_squared_error(dep_test, lasso_prediction))\n",
    "print('RMSE:', np.sqrt(metrics.mean_squared_error(dep_test, lasso_prediction)))\n",
    "print('RSquare:', r2_score(dep_test,lasso_prediction))\n",
    "print('VIF:', 1/(1-r2_score(dep_test,lasso_prediction)))\n",
    "\n",
    "accuracy = lasso.score(ind_test,dep_test)\n",
    "print(accuracy*100,'%')"
   ]
  },
  {
   "cell_type": "code",
   "execution_count": 81,
   "metadata": {
    "slideshow": {
     "slide_type": "skip"
    }
   },
   "outputs": [
    {
     "data": {
      "text/html": [
       "<div>\n",
       "<style scoped>\n",
       "    .dataframe tbody tr th:only-of-type {\n",
       "        vertical-align: middle;\n",
       "    }\n",
       "\n",
       "    .dataframe tbody tr th {\n",
       "        vertical-align: top;\n",
       "    }\n",
       "\n",
       "    .dataframe thead th {\n",
       "        text-align: right;\n",
       "    }\n",
       "</style>\n",
       "<table border=\"1\" class=\"dataframe\">\n",
       "  <thead>\n",
       "    <tr style=\"text-align: right;\">\n",
       "      <th></th>\n",
       "      <th>Actual</th>\n",
       "      <th>Predicted</th>\n",
       "    </tr>\n",
       "  </thead>\n",
       "  <tbody>\n",
       "    <tr>\n",
       "      <td>495840</td>\n",
       "      <td>4444</td>\n",
       "      <td>7187.629308</td>\n",
       "    </tr>\n",
       "    <tr>\n",
       "      <td>366955</td>\n",
       "      <td>5385</td>\n",
       "      <td>8981.716680</td>\n",
       "    </tr>\n",
       "    <tr>\n",
       "      <td>267012</td>\n",
       "      <td>3523</td>\n",
       "      <td>8638.287356</td>\n",
       "    </tr>\n",
       "    <tr>\n",
       "      <td>516764</td>\n",
       "      <td>15667</td>\n",
       "      <td>12436.328917</td>\n",
       "    </tr>\n",
       "    <tr>\n",
       "      <td>358915</td>\n",
       "      <td>20680</td>\n",
       "      <td>11004.382849</td>\n",
       "    </tr>\n",
       "  </tbody>\n",
       "</table>\n",
       "</div>"
      ],
      "text/plain": [
       "        Actual     Predicted\n",
       "495840    4444   7187.629308\n",
       "366955    5385   8981.716680\n",
       "267012    3523   8638.287356\n",
       "516764   15667  12436.328917\n",
       "358915   20680  11004.382849"
      ]
     },
     "execution_count": 81,
     "metadata": {},
     "output_type": "execute_result"
    },
    {
     "name": "stdout",
     "output_type": "stream",
     "text": [
      "MAE: 3530.4280050922343\n",
      "MSE: 21376875.870849386\n",
      "RMSE: 4623.513368732633\n",
      "RSquare: 0.15187944428731037\n",
      "VIF: 1.179077659731621\n",
      "15.187944428731036 %\n"
     ]
    }
   ],
   "source": [
    "#Prediction with train value\n",
    "lasso_prediction=lasso.predict(ind_train)\n",
    "\n",
    "df = pd.DataFrame({'Actual': dep_train, 'Predicted': lasso_prediction})\n",
    "df.head()\n",
    "\n",
    "#Accuracy\n",
    "print('MAE:', metrics.mean_absolute_error(dep_train, lasso_prediction))\n",
    "print('MSE:', metrics.mean_squared_error(dep_train, lasso_prediction))\n",
    "print('RMSE:', np.sqrt(metrics.mean_squared_error(dep_train, lasso_prediction)))\n",
    "print('RSquare:', r2_score(dep_train,lasso_prediction))\n",
    "print('VIF:', 1/(1-r2_score(dep_train,lasso_prediction)))\n",
    "\n",
    "accuracy = lasso.score(ind_train,dep_train)\n",
    "print(accuracy*100,'%')"
   ]
  },
  {
   "cell_type": "markdown",
   "metadata": {
    "slideshow": {
     "slide_type": "skip"
    }
   },
   "source": [
    "### Random Forest Gridsearch"
   ]
  },
  {
   "cell_type": "code",
   "execution_count": null,
   "metadata": {
    "slideshow": {
     "slide_type": "skip"
    }
   },
   "outputs": [
    {
     "name": "stdout",
     "output_type": "stream",
     "text": [
      "Fitting 3 folds for each of 100 candidates, totalling 300 fits\n"
     ]
    },
    {
     "name": "stderr",
     "output_type": "stream",
     "text": [
      "[Parallel(n_jobs=-1)]: Using backend LokyBackend with 8 concurrent workers.\n"
     ]
    }
   ],
   "source": [
    "n_estimators = [int(x) for x in np.linspace(start = 200, stop = 2000, num = 10)] # Number of trees in random forest\n",
    "max_features = ['auto', 'sqrt'] # Number of features to consider at every split\n",
    "max_depth = [int(x) for x in np.linspace(10, 110, num = 11)] # Maximum number of levels in tree\n",
    "max_depth.append(None)\n",
    "min_samples_split = [2, 5, 10] # Minimum number of samples required to split a node\n",
    "min_samples_leaf = [1, 2, 4] # Minimum number of samples required at each leaf node\n",
    "bootstrap = [True, False] # Method of selecting samples for training each tree\n",
    "\n",
    "# Create the random grid\n",
    "random_grid = {'n_estimators': n_estimators,\n",
    "               'max_features': max_features,\n",
    "               'max_depth': max_depth,\n",
    "               'min_samples_split': min_samples_split,\n",
    "               'min_samples_leaf': min_samples_leaf,\n",
    "               'bootstrap': bootstrap}\n",
    "\n",
    "rfr = RandomForestRegressor()\n",
    "rf_random = RandomizedSearchCV(estimator = rfr, param_distributions = random_grid, n_iter = 100, cv = 3, verbose=2, random_state=42, n_jobs = -1)\n",
    "\n",
    "# Fit the random search model\n",
    "rf_random.fit(ind_train,dep_train)"
   ]
  },
  {
   "cell_type": "markdown",
   "metadata": {
    "slideshow": {
     "slide_type": "slide"
    }
   },
   "source": [
    "Accuracy from the Algorithms:\n",
    "![alt text](accuracy.jpg)"
   ]
  },
  {
   "cell_type": "markdown",
   "metadata": {
    "slideshow": {
     "slide_type": "slide"
    }
   },
   "source": [
    "Corelation Matrix:\n",
    "![alt text](corelation.png)"
   ]
  },
  {
   "cell_type": "code",
   "execution_count": 92,
   "metadata": {
    "slideshow": {
     "slide_type": "skip"
    }
   },
   "outputs": [],
   "source": [
    "ind1 = data_final[['Gender', 'Age', 'Occupation', 'City_Category',\n",
    "       'Stay_In_Current_City_Years', 'Marital_Status', 'Product_Category_1',\n",
    "       'Product_Category_2']]\n",
    "dep1 = data_final['Purchase']"
   ]
  },
  {
   "cell_type": "code",
   "execution_count": 93,
   "metadata": {
    "slideshow": {
     "slide_type": "skip"
    }
   },
   "outputs": [],
   "source": [
    "#spliting dataset into 70% training set and 30% test set:\n",
    "\n",
    "ind_train1,ind_test1,dep_train1,dep_test1=train_test_split(ind1,dep1,test_size=0.3, random_state=100)"
   ]
  },
  {
   "cell_type": "code",
   "execution_count": 94,
   "metadata": {
    "slideshow": {
     "slide_type": "skip"
    }
   },
   "outputs": [
    {
     "data": {
      "text/plain": [
       "DecisionTreeRegressor(criterion='mse', max_depth=None, max_features=None,\n",
       "                      max_leaf_nodes=None, min_impurity_decrease=0.0,\n",
       "                      min_impurity_split=None, min_samples_leaf=1,\n",
       "                      min_samples_split=2, min_weight_fraction_leaf=0.0,\n",
       "                      presort=False, random_state=1, splitter='best')"
      ]
     },
     "execution_count": 94,
     "metadata": {},
     "output_type": "execute_result"
    },
    {
     "data": {
      "text/html": [
       "<div>\n",
       "<style scoped>\n",
       "    .dataframe tbody tr th:only-of-type {\n",
       "        vertical-align: middle;\n",
       "    }\n",
       "\n",
       "    .dataframe tbody tr th {\n",
       "        vertical-align: top;\n",
       "    }\n",
       "\n",
       "    .dataframe thead th {\n",
       "        text-align: right;\n",
       "    }\n",
       "</style>\n",
       "<table border=\"1\" class=\"dataframe\">\n",
       "  <thead>\n",
       "    <tr style=\"text-align: right;\">\n",
       "      <th></th>\n",
       "      <th>Actual</th>\n",
       "      <th>Predicted</th>\n",
       "    </tr>\n",
       "  </thead>\n",
       "  <tbody>\n",
       "    <tr>\n",
       "      <td>343184</td>\n",
       "      <td>3051</td>\n",
       "      <td>4412.909091</td>\n",
       "    </tr>\n",
       "    <tr>\n",
       "      <td>544675</td>\n",
       "      <td>13692</td>\n",
       "      <td>11164.000000</td>\n",
       "    </tr>\n",
       "    <tr>\n",
       "      <td>433588</td>\n",
       "      <td>8592</td>\n",
       "      <td>8715.000000</td>\n",
       "    </tr>\n",
       "    <tr>\n",
       "      <td>123193</td>\n",
       "      <td>2761</td>\n",
       "      <td>2190.000000</td>\n",
       "    </tr>\n",
       "    <tr>\n",
       "      <td>161124</td>\n",
       "      <td>15918</td>\n",
       "      <td>12746.000000</td>\n",
       "    </tr>\n",
       "  </tbody>\n",
       "</table>\n",
       "</div>"
      ],
      "text/plain": [
       "        Actual     Predicted\n",
       "343184    3051   4412.909091\n",
       "544675   13692  11164.000000\n",
       "433588    8592   8715.000000\n",
       "123193    2761   2190.000000\n",
       "161124   15918  12746.000000"
      ]
     },
     "execution_count": 94,
     "metadata": {},
     "output_type": "execute_result"
    },
    {
     "name": "stdout",
     "output_type": "stream",
     "text": [
      "MAE: 2280.9877963284157\n",
      "MSE: 10110152.908234827\n",
      "RMSE: 3179.6466640548015\n",
      "RSquare: 0.6002569378261228\n",
      "VIF: 2.5016068935926334\n",
      "60.02569378261228 %\n"
     ]
    }
   ],
   "source": [
    "dt=DecisionTreeRegressor(random_state=1)\n",
    "dt.fit(ind_train1, dep_train1)\n",
    "\n",
    "#Prediction with test value\n",
    "dt_prediction=dt.predict(ind_test1)\n",
    "\n",
    "df = pd.DataFrame({'Actual': dep_test1, 'Predicted': dt_prediction})\n",
    "df.head()\n",
    "\n",
    "#Accuracy\n",
    "print('MAE:', metrics.mean_absolute_error(dep_test1, dt_prediction))\n",
    "print('MSE:', metrics.mean_squared_error(dep_test1, dt_prediction))\n",
    "print('RMSE:', np.sqrt(metrics.mean_squared_error(dep_test1, dt_prediction)))\n",
    "print('RSquare:', r2_score(dep_test1,dt_prediction))\n",
    "print('VIF:', 1/(1-r2_score(dep_test1,dt_prediction)))\n",
    "\n",
    "accuracy = dt.score(ind_test1,dep_test1)\n",
    "print(accuracy*100,'%')\n"
   ]
  },
  {
   "cell_type": "code",
   "execution_count": 95,
   "metadata": {
    "slideshow": {
     "slide_type": "skip"
    }
   },
   "outputs": [
    {
     "data": {
      "text/html": [
       "<div>\n",
       "<style scoped>\n",
       "    .dataframe tbody tr th:only-of-type {\n",
       "        vertical-align: middle;\n",
       "    }\n",
       "\n",
       "    .dataframe tbody tr th {\n",
       "        vertical-align: top;\n",
       "    }\n",
       "\n",
       "    .dataframe thead th {\n",
       "        text-align: right;\n",
       "    }\n",
       "</style>\n",
       "<table border=\"1\" class=\"dataframe\">\n",
       "  <thead>\n",
       "    <tr style=\"text-align: right;\">\n",
       "      <th></th>\n",
       "      <th>Actual</th>\n",
       "      <th>Predicted</th>\n",
       "    </tr>\n",
       "  </thead>\n",
       "  <tbody>\n",
       "    <tr>\n",
       "      <td>495840</td>\n",
       "      <td>4444</td>\n",
       "      <td>5790.851852</td>\n",
       "    </tr>\n",
       "    <tr>\n",
       "      <td>366955</td>\n",
       "      <td>5385</td>\n",
       "      <td>6245.500000</td>\n",
       "    </tr>\n",
       "    <tr>\n",
       "      <td>267012</td>\n",
       "      <td>3523</td>\n",
       "      <td>5673.800000</td>\n",
       "    </tr>\n",
       "    <tr>\n",
       "      <td>516764</td>\n",
       "      <td>15667</td>\n",
       "      <td>13803.111111</td>\n",
       "    </tr>\n",
       "    <tr>\n",
       "      <td>358915</td>\n",
       "      <td>20680</td>\n",
       "      <td>15541.800000</td>\n",
       "    </tr>\n",
       "  </tbody>\n",
       "</table>\n",
       "</div>"
      ],
      "text/plain": [
       "        Actual     Predicted\n",
       "495840    4444   5790.851852\n",
       "366955    5385   6245.500000\n",
       "267012    3523   5673.800000\n",
       "516764   15667  13803.111111\n",
       "358915   20680  15541.800000"
      ]
     },
     "execution_count": 95,
     "metadata": {},
     "output_type": "execute_result"
    },
    {
     "name": "stdout",
     "output_type": "stream",
     "text": [
      "MAE: 1745.8683574166416\n",
      "MSE: 6224913.522308984\n",
      "RMSE: 2494.9776596813413\n",
      "RSquare: 0.7530285927793827\n",
      "VIF: 4.049051715151419\n",
      "75.30285927793827 %\n"
     ]
    }
   ],
   "source": [
    "#Prediction with train value\n",
    "dt_prediction=dt.predict(ind_train1)\n",
    "\n",
    "df = pd.DataFrame({'Actual': dep_train1, 'Predicted': dt_prediction})\n",
    "df.head()\n",
    "\n",
    "#Accuracy\n",
    "print('MAE:', metrics.mean_absolute_error(dep_train1, dt_prediction))\n",
    "print('MSE:', metrics.mean_squared_error(dep_train1, dt_prediction))\n",
    "print('RMSE:', np.sqrt(metrics.mean_squared_error(dep_train1, dt_prediction)))\n",
    "print('RSquare:', r2_score(dep_train1,dt_prediction))\n",
    "print('VIF:', 1/(1-r2_score(dep_train1,dt_prediction)))\n",
    "\n",
    "accuracy = dt.score(ind_train1,dep_train1)\n",
    "print(accuracy*100,'%')"
   ]
  },
  {
   "cell_type": "markdown",
   "metadata": {
    "slideshow": {
     "slide_type": "slide"
    }
   },
   "source": [
    "# Conclusion:\n",
    "\n",
    "    After dropping Product category 3, \n",
    "      MAE: 2280.9\n",
    "      RMSE: 3179.6\n",
    "      RSquare: 0.60\n",
    "      VIF: 2.5\n",
    "      Accuracy:60.0 %\n",
    "    "
   ]
  },
  {
   "cell_type": "markdown",
   "metadata": {
    "slideshow": {
     "slide_type": "fragment"
    }
   },
   "source": [
    "<b><i>\n",
    "        The ML algorithm that perform the best was Decision Tree Model with RMSE = 2253 with an accuracy of 61.7%\n",
    "    </i></b>"
   ]
  },
  {
   "cell_type": "markdown",
   "metadata": {
    "slideshow": {
     "slide_type": "slide"
    }
   },
   "source": [
    "![alt text](thanks.jpg)"
   ]
  }
 ],
 "metadata": {
  "celltoolbar": "Slideshow",
  "kernelspec": {
   "display_name": "Python 3",
   "language": "python",
   "name": "python3"
  },
  "language_info": {
   "codemirror_mode": {
    "name": "ipython",
    "version": 3
   },
   "file_extension": ".py",
   "mimetype": "text/x-python",
   "name": "python",
   "nbconvert_exporter": "python",
   "pygments_lexer": "ipython3",
   "version": "3.7.4"
  }
 },
 "nbformat": 4,
 "nbformat_minor": 2
}
